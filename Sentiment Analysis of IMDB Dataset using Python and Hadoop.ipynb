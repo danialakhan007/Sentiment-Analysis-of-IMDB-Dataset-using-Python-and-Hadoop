{
 "cells": [
  {
   "cell_type": "markdown",
   "metadata": {
    "application/vnd.databricks.v1+cell": {
     "cellMetadata": {
      "byteLimit": 2048000,
      "rowLimit": 10000
     },
     "inputWidgets": {},
     "nuid": "96816ed7-b08a-4ca3-abb9-f99880c3535d",
     "showTitle": false,
     "title": ""
    }
   },
   "source": [
    "\n",
    "## Sentiment Analysis of IMDB Dataset: Crafting Interpretable Models and Scalable Big Data Pipelines for IMDb Movie Reviews Using Python and Hadoop"
   ]
  },
  {
   "cell_type": "code",
   "execution_count": 0,
   "metadata": {
    "application/vnd.databricks.v1+cell": {
     "cellMetadata": {
      "byteLimit": 2048000,
      "rowLimit": 10000
     },
     "inputWidgets": {},
     "nuid": "62cec6f8-436c-43b9-8bd6-9f48d7560017",
     "showTitle": false,
     "title": ""
    },
    "jupyter": {
     "outputs_hidden": true
    }
   },
   "outputs": [
    {
     "output_type": "stream",
     "name": "stdout",
     "output_type": "stream",
     "text": [
      "Python interpreter will be restarted.\nCollecting nltk\n  Downloading nltk-3.8.1-py3-none-any.whl (1.5 MB)\nCollecting tqdm\n  Downloading tqdm-4.66.2-py3-none-any.whl (78 kB)\nRequirement already satisfied: click in /databricks/python3/lib/python3.9/site-packages (from nltk) (8.0.4)\nCollecting regex>=2021.8.3\n  Downloading regex-2023.12.25-cp39-cp39-manylinux_2_17_x86_64.manylinux2014_x86_64.whl (773 kB)\nRequirement already satisfied: joblib in /databricks/python3/lib/python3.9/site-packages (from nltk) (1.1.1)\nInstalling collected packages: tqdm, regex, nltk\nSuccessfully installed nltk-3.8.1 regex-2023.12.25 tqdm-4.66.2\nPython interpreter will be restarted.\n"
     ]
    }
   ],
   "source": [
    "%pip install nltk\n"
   ]
  },
  {
   "cell_type": "code",
   "execution_count": 0,
   "metadata": {
    "application/vnd.databricks.v1+cell": {
     "cellMetadata": {
      "byteLimit": 2048000,
      "rowLimit": 10000
     },
     "inputWidgets": {},
     "nuid": "8e5e873b-eac6-462f-8151-14dff69a694d",
     "showTitle": true,
     "title": "Task 1.0 Loading Dataset"
    }
   },
   "outputs": [
    {
     "output_type": "display_data",
     "data": {
      "application/vnd.databricks.v1+bamboolib_hint": "{\"pd.DataFrames\": [], \"version\": \"0.0.1\"}",
      "text/plain": []
     },
     "metadata": {},
     "output_type": "display_data"
    },
    {
     "output_type": "stream",
     "name": "stderr",
     "output_type": "stream",
     "text": [
      "[nltk_data] Downloading package punkt to /root/nltk_data...\n[nltk_data]   Unzipping tokenizers/punkt.zip.\n[nltk_data] Downloading package stopwords to /root/nltk_data...\n[nltk_data]   Unzipping corpora/stopwords.zip.\n[nltk_data] Downloading package averaged_perceptron_tagger to\n[nltk_data]     /root/nltk_data...\n[nltk_data]   Unzipping taggers/averaged_perceptron_tagger.zip.\n"
     ]
    }
   ],
   "source": [
    "# Import necessary libraries\n",
    "from pyspark.sql import SparkSession\n",
    "import pandas as pd\n",
    "import numpy as np\n",
    "import nltk\n",
    "\n",
    "\n",
    "# Download necessary NLTK resources(link to 1.2)\n",
    "nltk.download('punkt')\n",
    "nltk.download('stopwords')\n",
    "nltk.download('averaged_perceptron_tagger')\n",
    "\n",
    "# Initialize Spark Session\n",
    "spark = SparkSession.builder.appName(\"IMDB Sentiment Analysis\").getOrCreate()\n",
    "\n",
    "# Load dataset\n",
    "df = spark.read.csv(\"/FileStore/tables/uIMDB_Dataset.csv\", header=True, inferSchema=True).toPandas()"
   ]
  },
  {
   "cell_type": "code",
   "execution_count": 0,
   "metadata": {
    "application/vnd.databricks.v1+cell": {
     "cellMetadata": {
      "byteLimit": 2048000,
      "rowLimit": 10000
     },
     "inputWidgets": {},
     "nuid": "31d3de02-e877-420b-b251-e670af4c8421",
     "showTitle": true,
     "title": "Task 1.1. Data Sampling"
    }
   },
   "outputs": [],
   "source": [
    "# Task 1.1. Data Sampling\n",
    "df_sample = df.sample(frac=0.2, random_state=42)"
   ]
  },
  {
   "cell_type": "code",
   "execution_count": 0,
   "metadata": {
    "application/vnd.databricks.v1+cell": {
     "cellMetadata": {
      "byteLimit": 2048000,
      "rowLimit": 10000
     },
     "inputWidgets": {},
     "nuid": "167980f3-d24c-46d6-9c3f-201c3d0195fe",
     "showTitle": true,
     "title": "Task 1.2. Data Preprocessing"
    }
   },
   "outputs": [
    {
     "output_type": "stream",
     "name": "stderr",
     "output_type": "stream",
     "text": [
      "[nltk_data] Downloading package punkt to /root/nltk_data...\n[nltk_data]   Package punkt is already up-to-date!\n[nltk_data] Downloading package stopwords to /root/nltk_data...\n[nltk_data]   Package stopwords is already up-to-date!\n[nltk_data] Downloading package averaged_perceptron_tagger to\n[nltk_data]     /root/nltk_data...\n[nltk_data]   Package averaged_perceptron_tagger is already up-to-\n[nltk_data]       date!\n"
     ]
    }
   ],
   "source": [
    "import re\n",
    "import nltk\n",
    "from nltk.corpus import stopwords\n",
    "from nltk.tokenize import word_tokenize\n",
    "\n",
    "# Download necessary NLTK resources(link to 1.2)\n",
    "nltk.download('punkt')\n",
    "nltk.download('stopwords')\n",
    "nltk.download('averaged_perceptron_tagger')\n",
    "\n",
    "\n",
    "# Task 1.2. Data Preprocessing\n",
    "\n",
    "# Define a more comprehensive list of pronouns to be removed.\n",
    "pronouns = {\"i\", \"me\", \"my\", \"myself\", \"we\", \"our\", \"ours\", \"ourselves\", \"you\", \"your\", \"yours\", \n",
    "    \"yourself\", \"yourselves\", \"he\", \"him\", \"his\", \"himself\", \"she\", \"her\", \"hers\", \n",
    "    \"herself\", \"it\", \"its\", \"itself\", \"they\", \"them\", \"their\", \"theirs\", \"themselves\", \n",
    "    \"what\", \"which\", \"who\", \"whom\", \"this\", \"that\", \"these\", \"those\", \"am\", \"is\", \"are\", \n",
    "    \"was\", \"were\", \"be\", \"been\", \"being\", \"have\", \"has\", \"had\", \"having\", \"do\", \"does\", \n",
    "    \"did\", \"doing\", \"a\", \"an\", \"the\", \"and\", \"but\", \"if\", \"or\", \"because\", \"as\", \"until\", \n",
    "    \"while\", \"of\", \"at\", \"by\", \"for\", \"with\", \"about\", \"against\", \"between\", \"into\", \n",
    "    \"through\", \"during\", \"before\", \"after\", \"above\", \"below\", \"to\", \"from\", \"up\", \"down\", \n",
    "    \"in\", \"out\", \"on\", \"off\", \"over\", \"under\", \"again\", \"further\", \"then\", \"once\", \"here\", \n",
    "    \"there\", \"when\", \"where\", \"why\", \"how\", \"all\", \"any\", \"both\", \"each\", \"few\", \"more\", \n",
    "    \"most\", \"other\", \"some\", \"such\", \"no\", \"nor\", \"not\", \"only\", \"own\", \"same\", \"so\", \n",
    "    \"than\", \"too\", \"very\", \"s\", \"t\", \"can\", \"will\", \"just\", \"don\", \"should\", \"now\"\n",
    "}\n",
    "def preprocess_text(text):\n",
    "    # Remove HTML tags\n",
    "    text = re.sub(r'<.*?>', '', text)\n",
    "    # Convert text to lowercase to ensure uniformity\n",
    "    text = text.lower()\n",
    "    # Tokenize the text into individual words\n",
    "    tokens = word_tokenize(text)\n",
    "    # Remove stop words and pronouns\n",
    "    stop_words = set(stopwords.words('english'))\n",
    "    tokens = [word for word in tokens if word not in stop_words and word not in pronouns]\n",
    "    return ' '.join(tokens)\n",
    "\n",
    "df_sample['processed_review'] = df_sample['review'].apply(preprocess_text)\n",
    "\n",
    "\n"
   ]
  },
  {
   "cell_type": "code",
   "execution_count": 0,
   "metadata": {
    "application/vnd.databricks.v1+cell": {
     "cellMetadata": {
      "byteLimit": 2048000,
      "rowLimit": 10000
     },
     "inputWidgets": {},
     "nuid": "018cf561-ea63-4cde-8c0e-08150254fa83",
     "showTitle": true,
     "title": "Combine all preprocessed reviews into a single string 1.2 cont.."
    }
   },
   "outputs": [
    {
     "output_type": "stream",
     "name": "stdout",
     "output_type": "stream",
     "text": [
      "Number of unique words: 77367\nSome unique words: ['congolese', 'psychosis', 'overzealous', 'reminiscence', 'awesome.the', 'exterior.soon', 'circle', 'fingerprints', 'calamitous', 'third-act', 'ranier', 'well-textured', 'principals', 'obi-wan', 'jalopies', 'divers', 'superbly-staged', 'riotously', 'sheehan', 'phili', 'bio-chemical', 'withering', 'review', 'haphazardly', 'flashlights', 'largo', 'kieslowsky', 'good.want', 'unsavoury', 'derided', 'wired', 'defenitly', 'greuesome', 'supernova', 'papier-mache', 'fairy-tale', 'coombs', \"12'if\", 'only.when', 'brandon', 'volition', 'hi', 'preceding', 'kill.the', 'mystique', 'w/jimmy', 'sundry', 'passe', 'unstoppable', 'hits.look', 'mutiny', 'antithesis', 'crop', 'wrong-headed', 'heartwarming.when', 'wuthering', 'debated', 'two-by-two', 'cnd', '2007.', 'avengers', 'focal', 'rights-', 'whirl', 'sandwiched', 'crawled', 'lee-thompson', 'prentiss', 'm.p.or', 'kowalski', 'character.another', \"'balderdash\", 'dread', 'highly-charged', 'chang', 'helped.to', 'bushell', 'garma', 'run-into', 'python-esque.on', 'jovi', 'cronerberg', 'man-eating', 'travers', 'etched', 'mistakes', 'primeval', 'thurman', 'kubo', 'shepherd', 'pleasure-bot', 'ausiness', 'bad.personally', 'general', 'warmed', 'kit-kat', 'charisma', 'marengi', 're-starting', 'masks']\nPronouns found in data: {'i'}\n"
     ]
    }
   ],
   "source": [
    "\n",
    "# Combine all preprocessed reviews into a single string\n",
    "all_reviews = ' '.join(df_sample['processed_review'])\n",
    "\n",
    "# Tokenize the combined string into individual words\n",
    "all_words = word_tokenize(all_reviews)\n",
    "\n",
    "# Create a set of unique words\n",
    "unique_words = set(all_words)\n",
    "\n",
    "# Print or inspect the set of unique words\n",
    "print(\"Number of unique words:\", len(unique_words))\n",
    "print(\"Some unique words:\", list(unique_words)[:100])  # Print first 100 unique words as a sample\n",
    "\n",
    "# Optionally, check for common pronouns in the unique words set to ensure they have been removed\n",
    "common_pronouns = {\"i\", \"me\", \"my\", \"myself\", \"we\", \"our\", \"ours\", \"ourselves\", \"you\", \"your\", \"yours\", \n",
    "    \"yourself\", \"yourselves\", \"he\", \"him\", \"his\", \"himself\", \"she\", \"her\", \"hers\", \n",
    "    \"herself\", \"it\", \"its\", \"itself\", \"they\", \"them\", \"their\", \"theirs\", \"themselves\", \n",
    "    \"what\", \"which\", \"who\", \"whom\", \"this\", \"that\", \"these\", \"those\", \"am\", \"is\", \"are\", \n",
    "    \"was\", \"were\", \"be\", \"been\", \"being\", \"have\", \"has\", \"had\", \"having\", \"do\", \"does\", \n",
    "    \"did\", \"doing\", \"a\", \"an\", \"the\", \"and\", \"but\", \"if\", \"or\", \"because\", \"as\", \"until\", \n",
    "    \"while\", \"of\", \"at\", \"by\", \"for\", \"with\", \"about\", \"against\", \"between\", \"into\", \n",
    "    \"through\", \"during\", \"before\", \"after\", \"above\", \"below\", \"to\", \"from\", \"up\", \"down\", \n",
    "    \"in\", \"out\", \"on\", \"off\", \"over\", \"under\", \"again\", \"further\", \"then\", \"once\", \"here\", \n",
    "    \"there\", \"when\", \"where\", \"why\", \"how\", \"all\", \"any\", \"both\", \"each\", \"few\", \"more\", \n",
    "    \"most\", \"other\", \"some\", \"such\", \"no\", \"nor\", \"not\", \"only\", \"own\", \"same\", \"so\", \n",
    "    \"than\", \"too\", \"very\", \"s\", \"t\", \"can\", \"will\", \"just\", \"don\", \"should\", \"now\"}\n",
    "pronouns_in_data = common_pronouns.intersection(unique_words)\n",
    "\n",
    "if pronouns_in_data:\n",
    "    print(\"Pronouns found in data:\", pronouns_in_data)\n",
    "else:\n",
    "    print(\"No common pronouns found in the preprocessed data.\")\n"
   ]
  },
  {
   "cell_type": "code",
   "execution_count": 0,
   "metadata": {
    "application/vnd.databricks.v1+cell": {
     "cellMetadata": {
      "byteLimit": 2048000,
      "rowLimit": 10000
     },
     "inputWidgets": {},
     "nuid": "0a59d8c1-1c5f-4f1d-8e9a-0ba52cfce87f",
     "showTitle": true,
     "title": "Task 1.3. Feature Extraction"
    }
   },
   "outputs": [],
   "source": [
    "\n",
    "from sklearn.feature_extraction.text import CountVectorizer\n",
    "\n",
    "# Task 1.3. Feature Extraction\n",
    "vectorizer = CountVectorizer()\n",
    "X = vectorizer.fit_transform(df_sample['processed_review'])\n",
    "y = df_sample['sentiment'].apply(lambda x: 1 if x == 'positive' else 0)\n",
    "\n"
   ]
  },
  {
   "cell_type": "code",
   "execution_count": 0,
   "metadata": {
    "application/vnd.databricks.v1+cell": {
     "cellMetadata": {
      "byteLimit": 2048000,
      "rowLimit": 10000
     },
     "inputWidgets": {},
     "nuid": "eebe8a0b-903a-4181-8ddf-64d0d9c89729",
     "showTitle": true,
     "title": "Task 1.4. Model Selection, Task 1.5. Training a Sentiment Analysis using best Model, Task 1.6. Model Evaluation"
    }
   },
   "outputs": [],
   "source": [
    "from sklearn.linear_model import LogisticRegression\n",
    "from sklearn.naive_bayes import MultinomialNB \n",
    "from sklearn.ensemble import RandomForestClassifier\n",
    "from sklearn.metrics import accuracy_score, precision_score, recall_score, f1_score\n",
    "from sklearn.model_selection import train_test_split\n",
    "\n",
    "# Task 1.4. Model Selection\n",
    "X_train, X_test, y_train, y_test = train_test_split(X, y, test_size=0.2, random_state=42)\n",
    "\n",
    "models = {\n",
    "    \"Logistic Regression\": LogisticRegression(max_iter=10000),\n",
    "    \"Random Forest\": RandomForestClassifier(),\n",
    "    \"Naive Bayes\": MultinomialNB()\n",
    "}\n",
    "\n",
    "results = {}\n",
    "\n",
    "for name, model in models.items():\n",
    "    model.fit(X_train, y_train)\n",
    "    y_pred = model.predict(X_test)\n",
    "    accuracy = accuracy_score(y_test, y_pred)\n",
    "    precision = precision_score(y_test, y_pred)\n",
    "    recall = recall_score(y_test, y_pred)\n",
    "    f1 = f1_score(y_test, y_pred)\n",
    "    results[name] = [accuracy, precision, recall, f1]\n",
    "\n",
    "results_df = pd.DataFrame(results, index=[\"Accuracy\", \"Precision\", \"Recall\", \"F1 Score\"]).T\n",
    "best_model_name = results_df[\"F1 Score\"].idxmax()\n",
    "best_model = models[best_model_name]\n",
    "\n",
    "# Task 1.5. Training a Sentiment Analysis using best Model\n",
    "# Model has been trained in the previous step\n",
    "\n",
    "# Task 1.6. Model Evaluation\n",
    "# Evaluation metrics have been calculated in the previous step\n"
   ]
  },
  {
   "cell_type": "code",
   "execution_count": 0,
   "metadata": {
    "application/vnd.databricks.v1+cell": {
     "cellMetadata": {
      "byteLimit": 2048000,
      "rowLimit": 10000
     },
     "inputWidgets": {},
     "nuid": "6f9441f8-696a-4506-9819-d8c3052f24d7",
     "showTitle": true,
     "title": "Task 1.7. Feature Importance"
    }
   },
   "outputs": [
    {
     "output_type": "stream",
     "name": "stdout",
     "output_type": "stream",
     "text": [
      "Top 25 important features for positive sentiment:\n        Feature  Coefficient\n0     brilliant     0.755247\n1          rare     0.759775\n2          best     0.770479\n3        chance     0.775369\n4        plenty     0.780697\n5     wonderful     0.801515\n6   wonderfully     0.808764\n7        summer     0.817099\n8    definitely     0.829628\n9           fun     0.881936\n10    available     0.893425\n11    enjoyable     0.899659\n12       subtle     0.950227\n13        solid     0.958016\n14      enjoyed     0.973383\n15   incredible     0.990049\n16        great     0.992114\n17    hilarious     1.001129\n18        today     1.002697\n19        loved     1.086194\n20     favorite     1.107953\n21       superb     1.330419\n22      perfect     1.400563\n23      amazing     1.547823\n24    excellent     1.592680\nTop 25 important features for negative sentiment:\n           Feature  Coefficient\n0            worst    -2.318320\n1            waste    -2.094249\n2            awful    -1.795004\n3         horrible    -1.492199\n4         terrible    -1.440708\n5             crap    -1.321022\n6             dull    -1.246356\n7            fails    -1.233307\n8           stupid    -1.209495\n9             mess    -1.178728\n10             bad    -1.121476\n11           worse    -1.087297\n12  disappointment    -1.087178\n13        pathetic    -1.052892\n14            poor    -1.051485\n15          boring    -1.023990\n16            lame    -0.998866\n17          poorly    -0.980756\n18           badly    -0.964865\n19           sucks    -0.959123\n20           avoid    -0.955271\n21            okay    -0.948006\n22          london    -0.916174\n23   unfortunately    -0.910796\n24          insult    -0.908275\n"
     ]
    }
   ],
   "source": [
    "# Task 1.7. Feature Importance\n",
    "if hasattr(best_model, \"feature_importances_\"):\n",
    "    importances = best_model.feature_importances_\n",
    "elif hasattr(best_model, \"coef_\"):\n",
    "    importances = best_model.coef_[0]\n",
    "\n",
    "feature_names = vectorizer.get_feature_names_out()\n",
    "feature_names = np.array(vectorizer.get_feature_names_out())\n",
    "\n",
    "# Extract the coefficients and get the indices of the 25 largest and smallest\n",
    "coefs_with_fns = sorted(zip(best_model.coef_[0], feature_names))\n",
    "top_25_negative = coefs_with_fns[:25]\n",
    "top_25_positive = coefs_with_fns[-25:]\n",
    "\n",
    "# The top 25 features for the negative class\n",
    "top_negative_words = [fn for coef, fn in top_25_negative]\n",
    "top_negative_coefs = [coef for coef, fn in top_25_negative]\n",
    "\n",
    "# The top 25 features for the positive class\n",
    "top_positive_words = [fn for coef, fn in top_25_positive]\n",
    "top_positive_coefs = [coef for coef, fn in top_25_positive]\n",
    "\n",
    "# Print the top 25 important features for positive sentiments\n",
    "print(\"Top 25 important features for positive sentiment:\")\n",
    "print(pd.DataFrame({'Feature': top_positive_words, 'Coefficient': top_positive_coefs}))\n",
    "\n",
    "# Print the top 25 important features for negative sentiments\n",
    "print(\"Top 25 important features for negative sentiment:\")\n",
    "print(pd.DataFrame({'Feature': top_negative_words, 'Coefficient': top_negative_coefs}))"
   ]
  },
  {
   "cell_type": "code",
   "execution_count": 0,
   "metadata": {
    "application/vnd.databricks.v1+cell": {
     "cellMetadata": {
      "byteLimit": 2048000,
      "rowLimit": 10000
     },
     "inputWidgets": {},
     "nuid": "9f592714-0b90-4a7d-8714-2310137cce57",
     "showTitle": true,
     "title": "Results"
    }
   },
   "outputs": [
    {
     "output_type": "stream",
     "name": "stdout",
     "output_type": "stream",
     "text": [
      "Model Comparison Results:\n                     Accuracy  Precision    Recall  F1 Score\nLogistic Regression    0.8600   0.846968  0.879121  0.862745\nRandom Forest          0.8480   0.847458  0.849151  0.848303\nNaive Bayes            0.8395   0.865591  0.804196  0.833765\n"
     ]
    },
    {
     "output_type": "display_data",
     "data": {
      "image/png": "[encoded data removed]"
     },
     "metadata": {
      "application/vnd.databricks.v1+output": {
       "addedWidgets": {},
       "arguments": {},
       "data": "data:image/png;base64,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\n",
       "datasetInfos": [],
       "metadata": {},
       "removedWidgets": [],
       "type": "image"
      }
     },
     "output_type": "display_data"
    },
    {
     "output_type": "display_data",
     "data": {
      "image/png": "[encoded data removed]"
     },
     "metadata": {
      "application/vnd.databricks.v1+output": {
       "addedWidgets": {},
       "arguments": {},
       "data": "data:image/png;base64,iVBORw0KGgoAAAANSUhEUgAABDAAAALICAYAAACJhQBYAAAAOXRFWHRTb2Z0d2FyZQBNYXRwbG90bGliIHZlcnNpb24zLjUuMSwgaHR0cHM6Ly9tYXRwbG90bGliLm9yZy/YYfK9AAAACXBIWXMAAAsTAAALEwEAmpwYAACFuklEQVR4nOzdeZhkZXn38e9PQFmGTRl91YijgCCgjNAQUEBAJGo0gmIQcQETCe7GgJqIiLsElaioiBsqiAQUNbiAguwgDOuALEYZguIyKPsmy/3+cU5DUXT39Mz0dJ3u/n6uq645y/M85z7V1V333PWcU6kqJEmSJEmSuuwRgw5AkiRJkiRpUSxgSJIkSZKkzrOAIUmSJEmSOs8ChiRJkiRJ6jwLGJIkSZIkqfMsYEiSJEmSpM6zgCFp2kry4SQ3JPnDoGMZSZLDkrxvjP3/keTLkxnTRJsO5yBJUq+u5xdLK8nlSbYbdBxLYzqcg0ZmAUMTKsltPY/7k9zZs77HBB3jE0l+leTWJFcmeW3f/kpye89xR/3PU5JTk/zzRMS1tJIckeTDEzjemOeWZE77XPX+zC5ZymMOj7n80owzEZKsDfwbsGFV/b8JGrP3tfW7JJ9KstySjldV+1TVh9qxt0vy2779H62qCX99JtkoyUlJ/pLkpiQXJHnRBIw7aecwjlj2THLmZB9X0rJhfrHkzC8m1jLML+YneUTPtg8nOWIixl/EsR/2+qiqjarq1GVwrH9qf7duTfLHJD9KsuoEjDtp5zCOWDrzuz9dDfyPgKaXqpo1vJxkAfDPVfWzCT7M7cBLgKuBzYGfJPnfqjq7p80mVfW/E3zcZWZp/hM8AdaoqnsHePwHJAmQqrp/AoZbG/hzVf1pCeJYfoznZJOq+t8kGwCn0rwOD1vyMAfif4AvAC9u1zcHMrhwJGls5hdLxvyiMUXyiycArwS+tTTBdVWS5wIfBV5QVRcleTTN75u0eKrKh49l8gAWADu2y48C/gu4vn38F/Codt92wG+B/wBuaPvtsRjH+QHwbz3rBaw7zr6n0iRBvXG8C/gT8HtgZ+BFNMnMX4D/6Ol7IHAccAxwK3AhTWIzvP/p7fg3AZcD/9Cz7wia/0D+iCZh2hu4B/grcBvwP2279wC/bsf/JbBLzxh7AmcCnwBuBK4BXtju+whwH3BXO96hI5z7nPa5Wn6EfRsAP23P+SrgH3v2/T1wEXALcB1wYM++/2vHvK19bNU+T0eOdtz2OfoIcBZwJ7DuIo7/ova5uBX4HbDvCPHv2I51fxvHEe32f2h/Fje1x3163+v13cClwN2jPC8PeW0Bxw4/t8AbgP9tY/4B8IR2e4BDaF5TtwDzgY17XgcfBlbpi/c2mkTmgecO+DHwlr54LgFetqifWV+ftdrzWGOM34sXAxe3z9PZwDP7nqd92+fpZprX/4rjPIfhn/1eNK+dG4F9aP6jcGl7vEP7Ynk9cEXb9kTgyX0/j32AX7V9P9c+30+nee3f18Zx06D/Hvrw4WPiHphfmF9Mz/zi3TTvZ8Pxf3h4/HZ9S5r35Jto3v+369n3FOD0Nvaf0bwf9j43xwJ/oHnfPh3YqN0+2utjQXuuT2jP99E9Yz2L5vdphXZ91PfpvnPcF/jeGL8zj6J5zf0f8EeaD4dW6vsd+jce/B3aazzn0PM7dSxwZPsczQeeBvx7O951wE49sawOfKU9zu/an8VyE/H74WPpHwMPwMf0ffT94fggcC7wWGB2+wf4Q+2+7YB7gU+1f7yeS/Omu/44jrFS+8flBT3biiaJ+QPwXWDOGP1P5aEJxr3AAcAKNP8hXUhTCV8V2Kj9I/6Utv2B7R/MXdv2+7Z/xFZoH/9LkzQ9Etih/YO5ftv3CJo3kefQXMq1Yrvtw33xvYLmzeMRwG7t8/L4dt+e7fHfACwHvLE97/Sf2yjnPocREgya/4heR/OfzOV58I1qw57n6RltTM+keZPZebQxGV+C8X/t87s8zZvGWMf/PbBNu7wmsOko57cd8Nue9ae1z9/z25/Pu9qf0SN7Xq8XA0+ifcMcYcwHkldgQ5rX2D+1P98bgE1pXsOfBU5v2/0dcAGwBg/+53r4Z/jAz7w/3v7nDngtcFbPvg1pkphHLepn1jdmaBKkE2gS6Mf17X8WzZv539K8rl7XPjeP6nmezqN5XT6aJmnZZ5znMPyzP4zmNb8TzZv892j+NjyxPfZz2/YvbX9GT2/Pa3/g7L6fxwntc7s2ze/rC3p+P84c9N9BHz58TPwD8wvzi3ro+8tIbZh6+cV6NPnC8OvmgQIGzfvjn2mKLI9oj/VnYHa7/xya/1A/EtiapgjU+9y8nua1Nlzwu7hn30ivjwU8+Dt2CvCGnn0HA4e1y2O+T/eNuQ3N6/wDNK/PR/XtP4SmaPjoNtb/AT7W9zv0wfY5fhFwB7DmOM/hQJp84+/aOL9B8zv1Xh78nbymp+/xwBdpXrOPpcl7/mUifj98LP3De2BosuwBfLCq/lRVC2n+eL2mr837quruqjoN+CHwj+MY9zCaKvSJPdueS/MmtgHNH5QTFuOayXuAj1TVPcC3aT6t/nRV3VpVl9NU5jfpaX9BVR3Xtv8UTaKwZfuYBXy8qv5aVafQ/Edr956+36+qs6rq/qq6a6RgqurYqrq+bXMMzX88t+hpcm1Vfamq7gO+DjweeNw4z3XYDe19EG5Ksi/Np+8LquprVXVvVV0EfIcm2aGqTq2q+W1MlwJH0zznS+OIqrq8mmmVLxjr+DQ/ow2TrFZVN1bVheM8xm7AD6vqp+3P6xM0Ceqze9p8pqquq6o7xxjnwiQ30ryxfhn4Gs3r+6tVdWFV3U1T0d8qyZw23lVpXo+pqiuq6vfjjLnX8cDcJE9u1/cAvtseb8yfWa+qKmB7mjf2TwK/T3J6kvXaJnsDX6yqX1TVfVX1dZpPjLbsGeYz7evyL+3zMHcxz+VDVXVXVZ1Ek/Qd3f5t+B1wBk1SCc3sio+1z9m9NFNPe58DaH7Hbqqq/wN+vgSxSJrazC/ML8YylfKLAt4HvC/JI/v2vRr4UVX9qH1+fgrMA17U3pNjc+CA9jVxJk0h4MGBq77avtbupvnP/CZJVh/n+X2L9vXVXorTe5nLeN6nh2M4A3gZzYc9PwT+PHwvsXbcvYF/raq/VNWt7Viv7BniHprf9Xuq6kc0MxzWH+c5AJxRVSe2cR5LU/D8eM/v5JwkayR5HE2B5B1VdXs1lwod0hfLRPx+aAlZwNBkeQJwbc/6te22YTdW1e1j7H+YJAcDG9NM/6vh7VV1evsH/Cbg7TTT6p4+zjj/3P4xgqZKDM0nAPRsm9Wzfl3Pce+nmd72hPZxXT30WstraSroD+s7miSvTXLxcAJAc75r9TR54O7XVXVHu9gb33isVVVrtI9PAE8G/rYn6biJJkH8f21Mf5vk50kWJrmZ5s1rrVFHH5/e52LM4wMvp3ljuTbJaUm2GucxHvIabH8217GYPxOaT2TWrKp1qmr/dpz+sW+j+WTkiW1yeSjNdM4/JTk8yWrjjPkB7Zv5D3nwDXR34Kh2eVHPWf9Yv62qt1TVOm3f22k+jRge69/6xnoSD/197L3r+h0s/muu/3dqtN+xJwOf7onjLzQzSHp/Zksbi6SpzfzC/GIsUym/oP2P+W+Bf+nb9WTgFX2xb03zH+cnAH/p+Tk95HhtgeDjSX6d5BaaDzBg/M/td2g+lHk8sC3N5TNn9MS1qPfp3vP7cVW9hGaWxUtpZjP8M00xYWXggp6xftJuH/bneuj9Qxb3Pb//9+2GEX4nZ7XntALNBzzDsXyRZibGsIn4/dAS8iaemizX0/xBuLxdX7vdNmzNJKv0JBlrA5eNNliSDwAvpJlqfssijl0suxsUPqknpkcAf8OD5/WkJI/oSTLWprnWtTeu/jgf0FavvwQ8Dzinqu5LcjHjP5f+8cfrOuC0qnr+KPu/RfMf8hdW1V1J/osH3wRHOubtNG9Kw0b6T3VvvzGPX1XnAy9NsgLwFuC/6fk5jOF6mqmpwAOfIjyJ5trGkeJYHMOv7+GxVwEeMzx2VX0G+EySx7bx7kfzKUuv8Rz7aOD9SU6n+TTu5+32Rf3MRlVV1yX5XDv28FgfqaqPLO5YLPnzN5rhWI5aZMtlH4ukbjK/ML8YNl3yi/fSvCcf3bPtOuCbVfWG/sbtz/PRSVbu+c90b9yvoikW7EhTvFid5t4Nwz/vMWOrqhuTnEQz0+TpwLd7CntL9D7dvnZPTnIKTfHsSzRFhI2qmY25uCbyPf86mpmna9WS3YTW/GMZcwaGJsvRwP5JZidZi+Y60CP72nwgySOTbEMzzfDYkQZK8u80f4x3rKo/9+3bKMnctto8i2aK/O9ortNfFjZL8rJ2Cuk7aP7gnQv8gqYy/K4kK6T5HuqX0ExRG80fgaf2rK9C80dwIUCSvWj+yI9X/3jjdQLwtCSvaWNfIcnmSYY/ZVqVptJ/V5ItaH4WwxbSVOZ7j3sxsG2Stdvpiv++pMdvXx97JFm9nfJ3S3u88fhv4O+TPK9NTv6N5ud19tjdxuVoYK/2tfcommmPv6iqBW3sf9se83aaazBHivmPwGMy9pTOH9Ek6h8EjulJXhf1M3tAkjWTfCDJukke0f4+vp7mdQtNErFPG3OSrJLk7zO+rzkbzzksjsOAf0+yURv76kkedlnMGLH8TR4+DVfS9GJ+YX4xrfKLar768zKae1ANOxJ4SZK/a1+DK6b56vK/qapraS4nObA9j6146Ld7rNrG82eags9H+w45np/nt2juxbUrD/2WlHG/Tyd5aZJXtnlI2p/xc4Fz23zmS8AhaT7sIckTk/zdIuJanHMYl2ou8z0J+GSS1dpcaZ0036IyqbFoZBYwNFk+TPPH9VKaO/9e2G4b9geaavD1NNPi96mqK0cZ66M0nzb8bx78fvH/aPc9juau3bcAv6G5VvXF7ZvRsvB9mor0jTTX3L6svTbvrzRvHi+kuUHU54HXjnFO0NzteMM009W+V1W/pEmQzqH5Y/gMmjtpj9engV2T3JjkM+Pt1F6qsBPNpQrDNys7iObGTwBvAj6Y5FaaRPG/e/reQXvH7/Y8tmyv0zyG5md/AU0CsTTHfw2wIM00yH1opn+O57yuormG9LM0P5OXAC9pf1ZLpZqv8nsfzTTL3wPr8OClHqvRvCnfSDPF9M80N8DqH+NKmkT8N+1z97Apzu21q9+l+RTlWz3bF/Wc9forze/Fz2h+Ty6jSWz2bMeaR3NjqkPbmP93eN84nodFnsPiqKrjac7j2+3P+zKa36nxOIXmE9k/JLlhaeKQ1GnmF+YX0zG/2J/mMovhY1xHM4viP2iKOdfRzOYc/r/cHjTfzPJnmtf/MTTv7dBcInotTcHtlzz4gcWwh7w+RonnBzQ3Gf1DVV3SE9fivE/fSJNf/Ir2JqPAwT2zN95Nk3Oc2471M8Z/j4vxnMPieC3NDVF/2cZ9HM3lOuOxRL8fGr/hu6VKA9N+enBkVf3NgENZLEkOpPlGilcPOhZJkvRQ5heaqZIcA1xZVe8fdCzSRHMGhiRJkiRNUe2lMOu0lzu8gGa2xvcGHJa0THgTT0mSJEmauv4fzSWmj6H5FpM3VvM1sdK04yUkkiRJkiSp87yERJIkSZIkdZ6XkIzDWmutVXPmzBl0GJIkLVMXXHDBDVU1e9BxzFTmG5KkmWJJcw4LGOMwZ84c5s2bN+gwJElappJcO+gYZjLzDUnSTLGkOYeXkEiSJEmSpM5zBsY43Hj73Rx33v8OOgyps3bdYt1BhyBJGsXCr39i0CFIkjQhnIEhSZIkSZI6zwKGJEmSJEnqPAsYkiRJkiSp8yxgSJIkSZKkzrOAIUmSJEmSOs8ChiRJkiRJ6ryBFDCSzEly2TjafTDJju3yqUmG2uUFSdZql89eijj2TPKEJe0vSZI0liQ7J9lw0HFIkjQddHYGRpLlquqAqvrZWO2q6tlLcZg9AQsYkiRpqSRZbpRdOwMWMCRJmgCDLGAsn+SoJFckOS7Jyu3MioOSXAi8IskRSXYda5Akt7X/zkpycpILk8xP8tJ2+5z2GF9KcnmSk5Ks1I47BByV5OIkKy3zM5YkSZ2TZL8kb2uXD0lySru8Q5ur7N7mFpclOain321JPpnkEmCrJB9P8ssklyb5RJJnA/8AHNzmGusM5AQlSZomBlnAWB/4fFU9HbgFeFO7/c9VtWlVfXsxx7sL2KWqNgW2Bz6ZJO2+9YDPVdVGwE3Ay6vqOGAesEdVza2qO3sHS7J3knlJ5t1y01+W6AQlSdKUcAawTbs8BMxKskK77WrgIGAHYC6weZKd27arAL+oqk2AK4BdgI2q6pnAh6vqbOAHwH5trvHr/gP35hsLFy5cZicoSdJ0MMgCxnVVdVa7fCSwdbt8zBKOF+CjSS4FfgY8EXhcu++aqrq4Xb4AmLOowarq8Koaqqqh1dZ49BKGJEmSpoALgM2SrAbcDZxDU8jYhuaDj1OramFV3QscBWzb9rsP+E67fDPNhylfSfIy4I7xHLg335g9e/ZEnY8kSdPSIAsYNcr67Us43h7AbGCzqpoL/BFYsd13d0+7+4Dll/AYkiRpmqmqe4BraO6NdTbNjIztgXWBBWN0vauq7mvHuBfYAjgOeDHwk2UXsSRJM9MgCxhrJ9mqXX4VcOZSjrc68KequifJ9sCTx9HnVmDVpTyuJEma+s4A9gVOb5f3AS4CzgOem2St9kaduwOn9XdOMgtYvap+BPwrsEm7y1xDkqQJMsgCxlXAm5NcAawJfGEpxzsKGEoyH3gtcOU4+hwBHOZNPCVJmvHOAB4PnFNVf6S5HOSMqvo98B7g58AlwAVV9f0R+q8KnNBeynom8M52+7eB/ZJc5E08JUlaOgO5lKKqFgAbjLBrTl+7PXuWt+tZntOzPKv99wZgK0a2cU/7T/Qsf4cHr12VJEkzVFWdDKzQs/60nuWjgaNH6DOrZ/n3NJeQ9Lc5C79GVZKkCTHIGRiSJEmSJEnjYgFDkiRJkiR1ngUMSZIkSZLUeRYwJEmSJElS51nAkCRJkiRJnTeQbyGZatZc5VHsusW6gw5DkiRpsc1+3b6DDkGSpIfac78l6uYMDEmSJEmS1HkWMCRJkiRJUudZwJAkSZIkSZ1nAUOSJEmSJHWeN/Ech7/cdhdHnnnloMOQOu3VW28w6BAkSVPQHw//6KBDkCRNEc7AkCRJkiRJnWcBQ5IkSZIkdZ4FDEmSJEmS1HkWMCRJkiRJUudZwJAkSZIkSZ1nAUOSJEmSJHWeBQxJkqSllGTnJBsOOg5JkqazaVPASGOR55NkucmIR5IkzSg7AxYwJElahqZ0ASPJnCRXJfkGcBnwlSTzklye5AM97RYkOSjJhcArkuyU5JwkFyY5NsmsgZ2EJEkaiCT7JXlbu3xIklPa5R2SHJXkC6PkFR9P8ssklyb5RJJnA/8AHJzk4iTrtI+fJLkgyRlJNhjMWUqSNH0sP+gAJsB6wOuq6twkj66qv7SzLE5O8syqurRt9+eq2jTJWsB3gR2r6vYk7wbeCXywd9AkewN7AzzmcU+YvLORJEmT5Qzg34DPAEPAo5KsAGwDnA4c259XAL8DdgE2qKpKskZV3ZTkB8AJVXUcQJKTgX2q6ldJ/hb4PLBDfwC9+cbaa6+9rM9XkqQpbUrPwGhdW1Xntsv/2M6yuAjYiIdO5Tym/XfLdvtZSS4GXgc8uX/Qqjq8qoaqami1NdZcZsFLkqSBuQDYLMlqwN3AOTSFjG1oihsj5RU3A3fRzPp8GXBH/6DtzM5nA8e2ucYXgcePFEBvvjF79uwJPj1JkqaX6TAD43aAJE8B9gU2r6obkxwBrNjfDgjw06rafVKjlCRJnVJV9yS5BtgTOBu4FNgeWBe4kxHyiqq6N8kWwPOAXYG38PCZFY8AbqqquZNxHpIkzRTTYQbGsNVoihQ3J3kc8MJR2p0LPCfJugBJVknytEmKUZIkdcsZNIWK09vlfWhmXIyYV7SzK1avqh8B/wps0o5zK7AqQFXdAlyT5BVtnyTZBEmStFSmTQGjqi6hSTiuBL4FnDVKu4U0n7QcneRSmumi3lhLkqSZ6QyayzvOqao/0lwecsYYecWqwAltDnEmzX20AL4N7JfkoiTrAHsA/5TkEuBy4KWTdUKSJE1XU/oSkqpaAGzcs77nKO3m9K2fAmy+DEOTJElTQFWdDKzQs/60nuU9R+m2xQjjnMXDv0b1BRMQoiRJak2bGRiSJEmSJGn6soAhSZIkSZI6zwKGJEmSJEnqPAsYkiRJkiSp8yxgSJIkSZKkzpvS30IyWR49a0VevbXftCpJkjTRHrf3fww6BEnSZPuX9y5RN2dgSJIkSZKkzrOAIUmSJEmSOs8ChiRJkiRJ6jwLGJIkSZIkqfO8iec43HDrnXzplMsHHYY0Zbxhh40GHYIkSQN3/WfeP+gQJGlacQaGJEmSJEnqPAsYkiRJkiSp8yxgSJIkSZKkzrOAIUmSJEmSOs8ChiRJkiRJ6jwLGJIkSZIkqfOmZAEjyZwkly3lGNslefZExSRJkmaeJNskuTzJxUlWGqPdqUmGJjM2SZKmmylZwJgg2wEWMCRJ0tLYA/hYVc2tqjsHHYwkSdPZVC5gLJ/kqCRXJDkuycpJNktyWpILkpyY5PEASd6W5JdJLk3y7SRzgH2Af20/MdlmoGciSZIGLsn32hzi8iR7J3lFkk+1+96e5Dft8lOTnJXkn4F/BD7U5iTbJTmhZ7xDk+w5kJORJGkaWn7QASyF9YF/qqqzknwVeDOwC/DSqlqYZDfgI8DrgfcAT6mqu5OsUVU3JTkMuK2qPjGwM5AkSV3y+qr6S3spyPnA3wHvavdtA/w5yRPb5dOr6stJtgZOqKrjkmw3iKAlSZoppnIB47qqOqtdPhL4D2Bj4KdJAJYDft/uvxQ4Ksn3gO+NZ/AkewN7Azz6sY+fsKAlSVJnvS3JLu3yk9rHrCSrtsvfAralKWB8dyIO2JtvrL322hMxpCRJ09ZUvoSk+tZvBS5vr0GdW1XPqKqd2n1/D3wO2BQ4P8kiCzdVdXhVDVXV0KprrDmxkUuSpE5pZ0/sCGxVVZsAFwErAmcDewFXAWfQFC+2As4aYZh7eWhuteKijtubb8yePXtpTkGSpGlvKhcw1k6yVbv8KuBcYPbwtiQrJNkoySOAJ1XVz4F3A6sDs2gKHqsOIG5JktQ9qwM3VtUdSTYAtmy3nwHsC5xOU9TYHri7qm4eYYxrgQ2TPCrJGsDzln3YkiTNHFO5gHEV8OYkVwBrAp8FdgUOSnIJcDHNt4wsBxyZZD5N4vGZqroJ+B9gF2/iKUmSgJ/Q3CD8CuDjNB+MQFPAeBLNPS/uA64DzhxpgKq6Dvhv4LL234uWddCSJM0kU/IeGFW1ANhghF0X01yb2m/rEca4GnjmhAYmSZKmpKq6G3jhKLvT026n3h1VtWff+rt48Mafvdu3W+ogJUma4abyDAxJkiRJkjRDWMCQJEmSJEmdZwFDkiRJkiR1ngUMSZIkSZLUeRYwJEmSJElS503JbyGZbGutuhJv2GGjQYchSZKkKeQJb/vAoEOQpG56+weXqJszMCRJkiRJUudZwJAkSZIkSZ1nAUOSJEmSJHWeBQxJkiRJktR53sRzHP50y5189ieXDDoMaUp56ws2GXQIkiRpGfntf/77oEOQNAM5A0OSJEmSJHWeBQxJkiRJktR5FjAkSZIkSVLnWcCQJEmSJEmdZwFDkiRJkiR1ngUMSZIkSZLUeZ0qYCQ5Ismug45DkiRNfUnmJLlsAsfbJ8lr2+VTkwyN0GbPJIdO1DElSdKDlh90AJIkSV2TZPmqurdv/bBBxiRJ0kw30BkYSV6b5NIklyT5Zrt52yRnJ/nN8GyMJLOSnJzkwiTzk7y03T4nyRVJvpTk8iQnJVmp3bdukp+1Y1+YZJ12+35Jzm+P+4GBnLgkSZosy/XnCUnmJjm3zQWOT7ImPDCr4r+SzAPePsL6gUn27Rn7NUkuTnJZki36D5xkdpLvtHnH+UmeM0nnLEnStDSwAkaSjYD9gR2qahPg7e2uxwNbAy8GPt5uuwvYpao2BbYHPpkk7b71gM9V1UbATcDL2+1Htds3AZ4N/D7JTm37LYC5wGZJtl1mJylJkgZtpDzhG8C7q+qZwHzg/T3tH1lVQ1X1yVHWe61cVXOBNwFfHWH/p4FDqmrz9rhfnogTkiRpphrkJSQ7AMdW1Q0AVfWXtibxvaq6H/hlkse1bQN8tC023A88ERjed01VXdwuXwDMSbIq8MSqOr4d+y6AtoCxE3BR234WTWJzen9wSfYG9gZY87GPn6hzliRJk6s/T1gHWKOqTmu3fR04tqf9MX39+9d7HQ1QVacnWS3JGn37dwQ2fPAzF1ZLMquqbhve0JtvrL322uM6IUmSZqou3gPj7p7l4Xf8PYDZwGZVdU+SBcCKI7S/D1hpjLEDfKyqvrioIKrqcOBwgLWftlGNL3RJktQx/XnCGotof/si1nv15wf9648Athz+IGXEAXryjaGhIfMNSZLGMMh7YJwCvCLJYwCSPHqMtqsDf2qLF9sDTx5r4Kq6Ffhtkp3bsR+VZGXgROD1SWa125+Y5LFLfyqSJGmKuBm4Mck27fprgNPGaD+W3QCSbA3cXFU39+0/CXjr8EqSuUt4HEmSxABnYFTV5Uk+ApyW5D4evKxjJEcB/5NkPjAPuHIch3gN8MUkHwTuAV5RVScleTpwTjud8zbg1cCfluJUJEnS1PI64LD2w43fAHst4Th3JbkIWAF4/Qj73wZ8LsmlNDnX6cA+S3gsSZJmvIFeQlJVX6e59nS0/bPaf28Athql2cY97T/Rs/wrmvts9I/5aZqbakmSpGmsqhYwSp4AbDlC++0WsX7gaPt6th8BHNEu30A7S0OSJC29gX6NqiRJkiRJ0nhYwJAkSZIkSZ1nAUOSJEmSJHWeBQxJkiRJktR5FjAkSZIkSVLnDfRbSKaKx662Em99wSaDDkOSJEnqhL9518cGHYKkqezdH1+ibs7AkCRJkiRJnWcBQ5IkSZIkdZ4FDEmSJEmS1HkWMCRJkiRJUud5E89x+MPNd3Dw/1ww6DCkKWe/l2w26BAkSdIAXfuhdw46BEnTiDMwJEmSJElS51nAkCRJkiRJnWcBQ5IkSZIkdZ4FDEmSJEmS1HkWMCRJkiRJUudZwJAkSZIkSZ03JQoYSU5NMrSEfbdL8uyJjkmSJHVfkjWSvGkCxvlRO9acJJeN0maJ8xVJkrRoU6KAsZS2AyxgSJI0M60BjLuAkcYj+ter6kVVddMyiE+SJI1TpwoY7acaVyY5KskVSY5LsnJfm52SnJPkwiTHJpnVbl+Q5APt9vlJNkgyB9gH+NckFyfZJsk1SVZo+6zWuy5JkqadjwPrtHnAwUn2S3J+kkuTfAAeyD+uSvIN4DJgm771J7V5xlrtmMuPlau0Y46Yr0iSpCXXqQJGa33g81X1dOAWej41aROH/YEdq2pTYB7wzp6+N7TbvwDsW1ULgMOAQ6pqblWdAZwK/H3b/pXAd6vqnmV7SpIkaUDeA/y6quYCPwXWA7YA5gKbJdm2bbceTf6xEXBt73pVXds35qi5CowrX5EkSUugiwWM66rqrHb5SGDrnn1bAhsCZyW5GHgd8OSe/d9t/70AmDPK+F8G9mqX9wK+NlKjJHsnmZdk3u0337i45yBJkrpnp/ZxEXAhsAFNoQLg2qo6t6dt/3qvsXIVWHS+8oDefGPhwoWLez6SJM0oyw86gBHUGOsBflpVu4/S9+723/sY5dyq6qx2quh2wHJVNeKNuKrqcOBwgL9Zb8P+mCRJ0tQT4GNV9cWHbGwuOb29r23/eq+xcpXh44yVrzzYsSffGBoaMt+QJGkMXZyBsXaSrdrlVwFn9uw7F3hOknUBkqyS5GmLGO9WYNW+bd8AvsUosy8kSdK00ZsHnAi8vuf+WU9M8tglGHOsXAWWLF+RJEmL0MUCxlXAm5NcAaxJcz8LAKpqIbAncHSSS4FzaKZ/juV/gF2Gb+LZbjuqHfvoCY5dkiR1SFX9meZSjsuA59N8gHFOkvnAcTz8Q47xGDVXaY+5JPmKJElahC5eQnJvVb26b9t2wwtVdQqweX+nqprTszxvuE9VXQ08s6/51sBxfh2aJEnTX1W9qm/Tp0dotnFP+wW96+22Oe3iDYxSjKiq7XqWR8xXJEnSkutiAWOZSvJZ4IXAiwYdiyRJkiRJGp9OFTBG+sRjGRzjrctyfEmSJEmSNPG6eA8MSZIkSZKkh7CAIUmSJEmSOs8ChiRJkiRJ6rxO3QOjq/7f6iuz30s2G3QYkiRJ0pTy5Pd9atAhSOqiAw5Zom7OwJAkSZIkSZ1nAUOSJEmSJHWeBQxJkiRJktR5FjAkSZIkSVLneRPPcfj9jbfzwe+cN+gwpGnjgJdvMegQJEnSFPab975l0CFIGgBnYEiSJEmSpM6zgCFJkiRJkjrPAoYkSZIkSeo8CxiSJEmSJKnzLGBIkiRJkqTOs4AhSZIkSZI6zwKGJEmSJEnqvM4XMJLctgR9XpHkiiQ/X0S7BUnWWvLoJEmSJEnSZFh+0AFMpCQBAvwT8IaqOnPAIUmSpGkqyfJVde+g45AkaaZY6hkYSfZL8rZ2+ZAkp7TLOyQ5KsnuSeYnuSzJQT39bkvykSSXJDk3yePa7U9Jck7b58MjHOv8JJcm+UC7bU6Sq5J8A7gMeB+wNfCVJAcn2TPJoT1jnJBku6U9b0mSNP0leW2bd1yS5JtJjkhyWJJfAP+ZZIs2b7koydlJ1m/77Znk+0lOTfKrJO8f8KlIkjTlTcQlJGcA27TLQ8CsJCu0264GDgJ2AOYCmyfZuW27CnBuVW0CnA68od3+aeALVfUM4PfDB0myE7AesEU71mZJtm13rwd8vqo2qqoPAPOAPapqvyU9qSR7J5mXZN7tt9y0pMNIkqQpKslGwP7ADm2+8vZ2198Az66qdwJXAttU1bOAA4CP9gyxBfBy4JnAK5IMjXCMB/KNhQsXLsOzkSRp6puIAsYFNMWE1YC7gXNoChnbADcBp1bVwnaK5VHAcNHhr8AJPWPMaZefAxzdLn+z5zg7tY+LgAuBDWgKFwDXVtW5E3AuD6iqw6tqqKqGVlltjYkcWpIkTQ07AMdW1Q0AVfWXdvuxVXVfu7w6cGySy4BDgI16+v+0qv5cVXcC36WZIfoQvfnG7Nmzl9mJSJI0HSz1PTCq6p4k1wB7AmcDlwLbA+sCC4DNRul6T1VVu3xfXyw1QvsAH6uqLz5kYzIHuH2MEO/loYWaFcdoK0mStCi9eceHgJ9X1S5tTnJqz77+fGak/EaSJI3TRH0LyRnAvjSXgpwB7EMzU+I84LlJ1kqyHLA7cNoixjoLeGW7vEfP9hOB1yeZBZDkiUkeO47YFgBzkzwiyZNopnNKkiQtyik0l348BiDJo0doszrwu3Z5z759z0/y6CQrATvT5DiSJGkJTWQB4/HAOVX1R+Au4Iyq+j3wHuDnwCXABVX1/UWM9XbgzUnmA08c3lhVJwHfAs5p9x0HrDqO2M4CrgF+CXyG5vITSZKkMVXV5cBHgNOSXAJ8aoRm/wl8LMlFPHxm63nAd2hmp36nquYty3glSZruJuRrVKvqZGCFnvWn9SwfzYP3tOjtM6tn+TiaggRVdQ2wVU/T/XvafZrmJp/9Nu4be7ue5eKhMzl6280Z+YwkSZKgqr4OfH2M/ecAT+vZtH/P8m+raudlFJokSTPORM3AkCRJkiRJWmYmZAaGJEmSHlRVRwBHDDgMSZKmFWdgSJIkSZKkzrOAIUmSJEmSOs9LSMbh8WuuwgEv99tXJUmSpC546kcOHXQIkpbGRz+3RN2cgSFJkiRJkjrPAoYkSZIkSeo8CxiSJEmSJKnzLGBIkiRJkqTO8yae4/C7v9zGe7999qDDkKadj7zy2YMOQZIkzRD/u+/egw5B0lJyBoYkSZIkSeo8CxiSJEmSJKnzLGBIkiRJkqTOs4AhSZIkSZI6zwKGJEmSJEnqPAsYkiRJkiSp8yxgSJIkSZKkzht4ASPJbUvQ5xVJrkjy80W0W5BkrSU9jiRJ0kiSHJhk3zH2b5fkhHZ5zySHTl50kiRNT8sPOoDFkSRAgH8C3lBVZw44JEmSJEmSNAkWOQMjyX5J3tYuH5LklHZ5hyRHJdk9yfwklyU5qKffbUk+kuSSJOcmeVy7/SlJzmn7fHiEY52f5NIkH2i3zUlyVZJvAJcB7wO2Br6S5OD+TzWSnJBkuzHO5xtJdu5ZPyrJS8fxXEmSpBksyXuTXJ3kTGD9dtupSYba5bWSLBhkjJIkTWfjuYTkDGCbdnkImJVkhXbb1cBBwA7AXGDznuLAKsC5VbUJcDrwhnb7p4EvVNUzgN8PHyTJTsB6wBbtWJsl2bbdvR7w+araqKo+AMwD9qiq/Rb3hIGvAHu2x1wdeDbww/5GSfZOMi/JvDtuvWkJDiNJkqaLJJsBr6TJUV4EbD5B4z6QbyxcuHAihpQkadoaTwHjAppiwmrA3cA5NIWMbYCbgFOramFV3QscBQwXHf4KnNAzxpx2+TnA0e3yN3uOs1P7uAi4ENiApnABcG1Vnbs4JzaaqjoNWC/JbGB34Dtt7P3tDq+qoaoaWnnVNSbi0JIkaeraBji+qu6oqluAH0zEoL35xuzZsydiSEmSpq1F3gOjqu5Jcg3NrIWzgUuB7YF1gQXAZqN0vaeqql2+r+9YNUL7AB+rqi8+ZGMyB7h9jBDv5aGFmBXHaDvsG8CraT5J2Wsc7SVJkkbSm4eMJweRJElLaLzfQnIGsC/NpSBnAPvQzJQ4D3hue83ncjQzGk5bxFhn0RQOAPbo2X4i8PokswCSPDHJY8cR2wJgbpJHJHkSzSUoi3IE8A6AqvrlONpLkqSZ7XRg5yQrJVkVeEm7fQEPfpiz6yACkyRpplicAsbjgXOq6o/AXcAZVfV74D3Az4FLgAuq6vuLGOvtwJuTzAeeOLyxqk4CvgWc0+47Dlh1HLGdBVwD/BL4DM3lJ2Nqz+EK4GvjGF+SJM1wVXUhcAxNvvNj4Px21yeANya5CFhrQOFJkjQj5MGrPGaOJCsD84FNq+rmRbV//FM3qNd/9KvLPjBphvnIK5896BAk9UhyQVUNDTqOmWpoaKjmzZs36DCkaet/99170CFIaq33yS8tUc4x3hkY00aSHWlmX3x2PMULSZIkSZI0eIu8ied0U1U/A5486DgkSZIkSdL4zbgZGJIkSZIkaeqxgCFJkiRJkjpvxl1CsiSe+OhZ3mxQkiRJmsLW/cThgw5B0rBPfmmJujkDQ5IkSZIkdZ4FDEmSJEmS1HkWMCRJkiRJUudZwJAkSZIkSZ3nTTzH4bo/38Y7v3H6oMOQpq1PvXbbQYcgSZJmkKvesuegQ5C0BJyBIUmSJEmSOs8ChiRJkiRJ6jwLGJIkSZIkqfMsYEiSJEmSpM6zgCFJkiRJkjrPAoYkSZIkSeo8CxiSJEmSJKnzLGBIkiSNIcnbklyR5KhR9g8l+Uy7vGeSQyc3QkmSZoblBx3AoCUJkKq6f9CxSJKkTnoTsGNV/XaknVU1D5g3uSFJkjTzTMoMjCSrJPlhkkuSXJZktyQLkqzV7h9Kcmq7fGCSryc5I8m1SV6W5D+TzE/ykyQrtO0WJPlYkouTzEuyaZITk/w6yT49x94vyflJLk3ygXbbnCRXJfkGcBnwpMl4HiRJ0tSS5DDgqcCPk7w7yTlJLkpydpL12zbbJTlhhL6vaPOeS5KcPtmxS5I03UzWJSQvAK6vqk2qamPgJ4tovw6wA/APwJHAz6vqGcCdwN/3tPu/qpoLnAEcAewKbAkMFyp2AtYDtgDmApsl2bbtux7w+araqKqu7Q8gyd5tYWTenbfetNgnLEmSpr6q2ge4Htge+AKwTVU9CzgA+Ogiuh8A/F1VbUKT0zxMb76xcOHCCYxckqTpZ7IKGPOB5yc5KMk2VXXzItr/uKruafstx4MFj/nAnJ52P+jZ/ouqurWqFgJ3J1kD2Kl9XARcCGxAU7gAuLaqzh0tgKo6vKqGqmpopVXXGOdpSpKkaWx14NgklwGHABstov1ZwBFJ3kCTzzxMb74xe/bsiY1WkqRpZlLugVFVVyfZFHgR8OEkJwP38mABZcW+Lne3/e5Pck9VVbv9/r6Y7+7ZfnfP9uF2AT5WVV/sHTzJHOD2pTopSZI003yIZlboLm0ucepYjatqnyR/SzN79IIkm1XVn5d9mJIkTU+TdQ+MJwB3VNWRwMHApsACYLO2ycuX0aFPBF6fZFYbxxOTPHYZHUuSJE1vqwO/a5f3XFTjJOtU1S+q6gBgId5zS5KkpTJZ30LyDODgJPcD9wBvBFYCvpLkQyziE4wlVVUnJXk6cE7zZSPcBrwauG9ZHE+SJE1r/wl8Pcn+wA/H0f7gJOvRzAg9GbhkWQYnSdJ0N1mXkJxIMxui39NGaHtg3/qskfZV1Zye5SNobuI50r5PA58e4dgbLzJwSZI04/XkFTfw0Nxl/3b/qbQfxvTmJFX1ssmJUJKkmWGybuIpSZIkSZK0xCxgSJIkSZKkzrOAIUmSJEmSOs8ChiRJkiRJ6rzJ+haSKe1Jj5nFp1677aDDkCRJkjQB1j/0iEGHIM1sn/v6EnVzBoYkSZIkSeo8CxiSJEmSJKnzLGBIkiRJkqTOs4AhSZIkSZI6z5t4jsP/3XArb/ryzwcdhjQjfP6ftx90CJIkaYa54p93H3QIksbBGRiSJEmSJKnzLGBIkiRJkqTOs4AhSZIkSZI6zwKGJEmSJEnqPAsYkiRJkiSp8yxgSJIkSZKkzrOAIUmSJEmSOm+ZFjCSHJhk3zH2z07yiyQXJdkmyY+SrLGIMT+YZMd2+R1JVh5HHKcmGVrsE5AkSTPGePOKMfoPJfnMKPsWJFlryaOTJEmDnoHxPGB+VT2rqs6oqhdV1U1jdaiqA6rqZ+3qO4AlTjQkSZJ6vIOlyCuqal5VvW3iwpEkSb0mvICR5L1Jrk5yJrB+u22dJD9JckGSM5JskGQu8J/AS5NcnGSl4U8nksxJckWSLyW5PMlJSVZqxzoiya5J3gY8Afh5kp+3+3ZKck6SC5Mcm2RWX2yvT/JfPetvSHLIRD8HkiSp25KskuSHSS5JclmS9/PwvOK2nva7JjmiXT4iyWFJ5rU5z4vb7dslOaFdfkybv1ye5MtAJvscJUmabia0gJFkM+CVwFzgRcDm7a7DgbdW1WbAvsDnq+pi4ADgmKqaW1V39g23HvC5qtoIuAl4ee/OqvoMcD2wfVVt307L3B/Ysao2BeYB7+wb87+BlyRZoV3fC/jqKOeyd5uYzLvz1psX41mQJElTwAuA66tqk6raGPgvevKKcfSfA2wB/D1wWJIV+/a/HzizzWOOB9YeaZDefGPhwoVLdiaSJM0Qy0/weNsAx1fVHQBJfgCsCDwbODZ54MOHR41jrGvaIgfABTSJwli2BDYEzmqP80jgnN4GVXVbklOAFye5AlihquaPNFhVHU5TeOGxc9avccQrSZKmjvnAJ5McBJxQVWf05Cnj8d9VdT/wqyS/ATbo278t8DKAqvphkhtHGqQ33xgaGjLfkCRpDBNdwBjJI4CbqmruYva7u2f5PmClRbQP8NOq2n0R7b4M/AdwJfC1xYxJkiRNA1V1dZJNaWaMfjjJySM161nun2HRX2yw+CBJ0jI20ffAOB3Yub2fxarAS4A7gGuSvAIgjU0m6Hi3Aqu2y+cCz0mybnucVZI8rb9DVf0CeBLwKuDoCYpDkiRNIUmeANxRVUcCBwOb8tC8AuCPSZ6e5BHALn1DvCLJI5KsAzwVuKpv/+k0uQZJXgisuQxOQ5KkGWVCZ2BU1YVJjgEuAf4EnN/u2gP4QpL9gRWAb7dtltbhwE+SXN/eB2NP4Ogkw5eo7A9cPUK//wbmVtWI0zklSdK09wzg4CT3A/cAbwS2oievAN4DnAAspLm3Vu/Nwf8POA9YDdinqu7quwTlAzQ5yeXA2W17SZK0FFI182Y8tncIP6SqRpou+jCPnbN+7br/Ycs4KkkAn//n8dw7T9KykOSCqhoadBxd134byQlVddxEjjs0NFTz5s2byCEljdMV/7yoq9AlTaQNv/LtJco5JvxrVLssyRpJrgbuHG/xQpIkSZIkDd5k3MSzM6rqJuBh98WQJEkar6rac9AxSJI0E82oGRiSJEmSJGlqsoAhSZIkSZI6b0ZdQrKk1l5rVW8sKEmSJE1TT//y0YMOQZpZvvLtJermDAxJkiRJktR5FjAkSZIkSVLnWcCQJEmSJEmdZwFDkiRJkiR1ngUMSZIkSZLUeX4LyTgsWHgLr//8TwcdhqQxfPVNzx90CJIkaZq57DUvH3QIkno4A0OSJEmSJHWeBQxJkiRJktR5FjAkSZIkSVLnWcCQJEmSJEmdZwFDkiRJkiR1ngUMSZIkSZLUedOqgJHkbUmuSHLUoGORJEmSJEkTZ/lBBzDB3gTsWFW/HXQgkiRJkiRp4kybGRhJDgOeCvw4yc1J9u3Zd1mSOe3jiiRfSnJ5kpOSrDS4qCVJUle0ecKVSY5IcnWSo5LsmOSsJL9KskWSVZJ8Ncl5SS5K8tK270bttouTXJpkvbbtD5Nc0uYiuw36HCVJmsqmTQGjqvYBrge2Bw4Zo+l6wOeqaiPgJuDlIzVKsneSeUnm3XXbzRMdriRJ6qZ1gU8CG7SPVwFbA/sC/wG8FzilqragyTkOTrIKsA/w6aqaCwwBvwVeAFxfVZtU1cbAT/oP1ptvLFy4cJmfnCRJU9m0KWAshmuq6uJ2+QJgzkiNqurwqhqqqqEVZ60+WbFJkqTBuqaq5lfV/cDlwMlVVcB8mpxhJ+A9SS4GTgVWBNYGzgH+I8m7gSdX1Z1tn+cnOSjJNlX1sE9EevON2bNnT8LpSZI0dU3XAsa9PPTcVuxZvrtn+T6m331AJEnSkuvNE+7vWb+fJmcI8PKqmts+1q6qK6rqW8A/AHcCP0qyQ1VdDWxKU8j4cJIDJu80JEmafqZrAWMBTcJAkk2Bpww0GkmSNF2cCLw1SQCSPKv996nAb6rqM8D3gWcmeQJwR1UdCRxMm5tIkqQlM11nH3wHeG2Sy4FfAFcPOB5JkjQ9fAj4L+DSJI8ArgFeDPwj8Jok9wB/AD4KbE5zj4z7gXuANw4kYkmSpolpVcCoqjk9qzuN0mzjnvafWKYBSZKkKaOqFvDQPGHPUfb9ywh9Pw58vG/zie1DkiRNgOl6CYkkSZIkSZpGLGBIkiRJkqTOs4AhSZIkSZI6zwKGJEmSJEnqvGl1E89lZc7s1fjqm54/6DAkSZIkTaKNv/mdQYcgTU9HZom6OQNDkiRJkiR1ngUMSZIkSZLUeRYwJEmSJElS51nAkCRJkiRJnWcBQ5IkSZIkdZ7fQjIOv/njzez+Xz8edBiSxunod7xw0CFIkqQZ5NJXvHjQIUgzgjMwJEmSJElS51nAkCRJkiRJnWcBQ5IkSZIkdZ4FDEmSJEmS1HkWMCRJkiRJUudZwJAkSZIkSZ3X6QJGkh8lWaNdvm0RbeckuWyUfacmGVoGIUqSpBlgrDxjWfaVJEkPWn7QAYylql406BgkSZIkSdLgLbMZGEm+l+SCJJcn2TvJPkkO7tm/Z5JDR2rb02ZBkrX6xp2V5OQkFyaZn+SlPbuXT3JUkiuSHJdk5RHi2inJOW3/Y5PMWganL0mSpp+H5RlJDkhyfpLLkhyeJABJNktySZJLgDcPOG5JkqaFZXkJyeurajNgCHgbcDywS8/+3YBvj9Q2yWPGGPcuYJeq2hTYHvjkcLIArA98vqqeDtwCvKm3Y1sM2R/Yse0/D3jnSAdpiy7zksy7+/Zbxn3SkiRp2hopzzi0qjavqo2BlYAXt22/Bry1qjYZa8DefGPhwoXLMnZJkqa8ZVnAeFv7qcO5wJOApwC/SbJlW6DYADhrlLbrjTFugI8muRT4GfBE4HHtvuuqanjMI4Gt+/puCWwInJXkYuB1wJNHOkhVHV5VQ1U19KhVVhvvOUuSpOlrpDxj+yS/SDIf2AHYqL1/1xpVdXrb9pujDdibb8yePXtZxi5J0pS3TO6BkWQ7YEdgq6q6I8mpwIo0My7+EbgSOL6qaoy2o9kDmA1sVlX3JFnQ07762vavB/hpVe2+RCcmSZJmspHyjM8DQ1V1XZIDGTuHkSRJS2FZzcBYHbixLUhsQDPzAZrLSF4K7M6Dl4+M1nassf/UFi+256EzKNZOslW7/CrgzL6+5wLPSbIuQJJVkjxtCc5PkiTNPKPlGTe099TaFaCqbgJuSjI8E3SPSY1SkqRpalkVMH5Cc6OrK4CP0xQOqKobgSuAJ1fVeWO1HcNRwFA7VfO1NLM5hl0FvLkda03gC70dq2ohsCdwdHsJyjk0l7JIkiQtykh5xpeAy4ATgfN72u4FfK69ZDVIkqSltkwuIamqu4EXjrLvxYvRdk7P8qz23xuArUZqzyjFiKrarmf5FGDzUYOXJEnqU1ULGDnP2L999Le/AOi9gee7lk1kkiTNHMvyJp6SJEmSJEkTwgKGJEmSJEnqPAsYkiRJkiSp8yxgSJIkSZKkzlsmN/Gcbp76uNU5+h0j3mdUkiRJ0gz3zGNPGHQI0tSSJfuCLmdgSJIkSZKkzrOAIUmSJEmSOs8ChiRJkiRJ6jwLGJIkSZIkqfMsYEiSJEmSpM7zW0jG4dd/uJldDvbOwtJUc/x+Lx50CJIkaQa76CU7DToEaVpxBoYkSZIkSeo8CxiSJEmSJKnzLGBIkiRJkqTOs4AhSZIkSZI6zwKGJEmSJEnqPAsYkiRJkiSp8wZWwEiyT5LXTvCYpyYZGmH7nkkOnchjSZIkSZKkybP8oA5cVYcN6tiSJEkTIclyVXXfoOOQJGkmmNAZGEleneS8JBcn+WKS5ZLcluQjSS5Jcm6Sx7VtD0yyb7s8t913aZLjk6yZZJ0kF/aMvd7wepIDkpyf5LIkhydJTxivaY9/WZItRohxdpLvtP3PT/KciXwOJEnS1JBkvyRva5cPSXJKu7xDkqOS7J5kfptTHNTT77Ykn0xyCbBVko8n+WWbx3yibWO+IUnSBJuwAkaSpwO7Ac+pqrnAfcAewCrAuVW1CXA68IYRun8DeHdVPROYD7y/qn4N3JxkbttmL+Br7fKhVbV5VW0MrAS8uGesldvjvwn46gjH+jRwSFVtDrwc+PIo57N3knlJ5t19+83jeQokSdLUcgawTbs8BMxKskK77WrgIGAHYC6weZKd27arAL9oc5srgF2Ajdo85sNtm8XONxYuXDjBpydJ0vQykTMwngdsBpyf5OJ2/anAX4ET2jYXAHN6OyVZHVijqk5rN30d2LZd/jKwV5LlaIoj32q3b5/kF0nm0yQWG/UMeTRAVZ0OrJZkjb44dwQObWP8QdtmVv/JVNXhVTVUVUOPWmX18T4HkiRp6rgA2CzJasDdwDk0hYxtgJuAU6tqYVXdCxzFg/nJfcB32uWbgbuAryR5GXBHu32x843Zs2cvg1OUJGn6mMh7YAT4elX9+0M2JvtWVbWr9y3mMb8DvB84Bbigqv6cZEXg88BQVV2X5EBgxZ4+1TdG//ojgC2r6q7FiEOSJE0zVXVPkmuAPYGzgUuB7YF1gQU0H8yM5K7h+15U1b3tJavPA3YF3kLz4Yr5hiRJE2wiZ2CcDOya5LEASR6d5MmL6lRVNwM3Jhmewvka4LR2313AicAXePDykeFixQ3tJxm79g25W3v8rYGb2/F7nQS8dXil5xIVSZI085wB7EtzmesZwD7ARcB5wHOTrNXOBN2dNj/p1eYiq1fVj4B/BTZpd5lvSJI0wSZsBkZV/TLJ/sBJSR4B3AO8eVHd2n9fBxyWZGXgNzT3uxh2FM21pSe1x7kpyZeAy4A/AOf3jXlXkouAFYDXj3DMtwGfS3IpzfmfTpOsSJKkmecM4L3AOVV1e5K7gDOq6vdJ3gP8nGaW6Q+r6vsj9F8V+H47QzTAO9vt5huSJE2wCf0a1ao6Bjimb/Osnv3HAce1q48Brm23XwxsOcqwWwNf6/2KsqraH9h/hONvN0pcRwBHtMs30M7SkCRJM1tVnUzzocfw+tN6lo+mvbdWX5/e3Ob3wMO+9cx8Q5KkiTehBYzxSvIh4G+BAxfR7nhgHZprSSVJkiRJ0gw1kAJGVb0PeN842u0yCeFIkiRJkqSOm8ibeEqSJEmSJC0TFjAkSZIkSVLnDeQSkqlmnf+3Osfv9+JBhyFJkiRpCnnW/5w06BCkbkqWqJszMCRJkiRJUudZwJAkSZIkSZ1nAUOSJEmSJHWeBQxJkiRJktR5FjAkSZIkSVLn+S0k4/Cr39/ECz/yvUGHIWkS/Pi9Ow86BEmSNE3M2+m5gw5BmlacgSFJkiRJkjrPAoYkSZIkSeo8CxiSJEmSJKnzLGBIkiRJkqTOs4AhSZIkSZI6zwKGJEmSJEnqvCldwEhyYJJ9R9g+J8mreta3S3LC5EYnSdLMMvy+nOSDSXYccCw/SrLGItrsmeQJkxDLpBxHkqTpbkoXMMYwB3jVohpJkqSJV1UHVNXPBhzDi6rqpkU02xOYjMLCZB1HkqRprXMFjCSrJPlhkkuSXJZktyQLkqzV7h9KcmpPl02SnJPkV0ne0G77OLBNkouT/OsI4381yXlJLkry0sk5M0mSpp8k701ydZIzgfXbbUck2bVd/niSXya5NMkn2m0vSfKL9n34Z0ke124/MMk3+9/X25mUp7f5wVVJDkvyiHbf7knmtznDQT1xLUiyVjsr84okX0pyeZKTkqzUxjcEHNXmCyu1fT7Wrs9LsmmSE5P8Osk+PWPvl+T89pw+0G4b93Em4cciSdK01LkCBvAC4Pqq2qSqNgZ+soj2zwR2ALYCDminaL4HOKOq5lbVIX3t3wucUlVbANsDBydZpX/QJHu3ycu8v95+y9KekyRJ006SzYBXAnOBFwGb9+1/DLALsFFVPRP4cLvrTGDLqnoW8G3gXT3dRnpfB9gCeCuwIbAO8LJ230Ft+7nA5kl2HiHU9YDPVdVGwE3Ay6vqOGAesEebL9zZtv2/qpoLnAEcAewKbAkMFyp2asfboj3mZkm2XYLjDD9HD+QbCxcuHCF0SZI0rIsFjPnA85MclGSbqrp5Ee2/X1V3VtUNwM9pEoqx7AS8J8nFwKnAisDa/Y2q6vCqGqqqoUeustpin4QkSTPANsDxVXVHVd0C/KBv/83AXcBXkrwMuKPd/jfAiUnmA/sBG/X0Ge19/byq+k1V3QccDWxNUzA5taoWVtW9wFHAtjzcNVV1cbt8Ac2lpqMZPof5wC+q6taqWgjc3d5TY6f2cRFwIbABTeFicY8DPDTfmD179qKaS5I0oy0/6AD6VdXVSTal+STnw0lOBu7lwWLLiv1dFrHeLzSfiFy11MFKkqRRVdW9SbYAnkczk+EtNLMlPgt8qqp+kGQ74MDebv3DLGL7eNzds3wfMNZlHMNt7+/rdz9N3hTgY1X1xd5OSeYs5nEkSdJi6twMjHY66B1VdSRwMLApsADYrG3y8r4uL02yYjtNdTvgfOBWYNVRDnEi8NYkaY/3rAk9AUmSZo7TgZ3bez2sCrykd2eSWcDqVfUj4F+BTdpdqwO/a5df1zfmSO/rAFskeUp774vdaC5DOQ94bnuvi+WA3YHTFiP+sfKF0ZwIvL49N5I8Mcljl8FxJElSn87NwACeQXNfivuBe4A30nyC8ZUkH6K57KPXpTRTTNcCPlRV1ydZCNyX5BKa61cv6mn/IeC/gEvbJOga4MXL7GwkSZqmqurCJMcAlwB/4sFiw7BVge8nWZFm5sI72+0HAscmuRE4BXhKT5+R3tef1o59KLBuu//4qro/yXva9QA/rKrvL8YpHAEcluROmntujOecT0rydOCc9rOQ24BX08y4GNdx+u+DIUmSxidVizMDc2Za/Ynr1rPf9IlBhyFpEvz4vTsPOgRpYJJcUFVDAzz+gcBtVfWJvu3bAftW1bT+wGFoaKjmzZs36DAkTaB5Oz130CFInbT5T09fopyjc5eQSJIkSZIk9eviJSSSJGkGqqoDR9l+Kg+/hFSSJM0wzsCQJEmSJEmdZwFDkiRJkiR1ngUMSZIkSZLUed4DYxzWe/wafjOBJEmSpMUydNJpgw5B6qbmq8gXmzMwJEmSJElS51nAkCRJkiRJnWcBQ5IkSZIkdZ4FDEmSJEmS1HnexHMcfnX9X3jB+48edBiSJtlPPrD7oEOQJEnT1Gk7PnfQIUhTjjMwJEmSJElS51nAkCRJkiRJnWcBQ5IkSZIkdZ4FDEmSJEmS1HkWMCRJkiRJUudZwJAkSZIkSZ03bQsYSU5NMtQu/yjJGiO0OTDJvpMenCRJ6oQkeyZ5Qs/6giRrLUb/uUle1LP+D0neM9FxSpKkaVzA6FVVL6qqmwYdhyRJ6pw9gScsqtEY5gIPFDCq6gdV9fGljEmSJI1gShUwkqyS5IdJLklyWZLdkjwvyUVJ5if5apJHjdDvgU9Tkrw3ydVJzgTWn/STkCRJy0ySOUmuTHJUkiuSHJdk5SQHJDm/zR8OT2NXYAg4KsnFSVZqh3lrkgvb3GKDdtxV2jzjvDbveGmSRwIfBHZr++/Wzug4tO3zuCTHt3nLJUmePZAnRZKkaWJKFTCAFwDXV9UmVbUx8BPgCGC3qnoGsDzwxtE6J9kMeCUPflqy+Rht904yL8m8v95x68SdgSRJWtbWBz5fVU8HbgHeBBxaVZu3+cNKwIur6jhgHrBHVc2tqjvb/jdU1abAF4DhS03fC5xSVVsA2wMHAysABwDHtP2P6YvjM8BpVbUJsClweX+gvfnGwoULJ+4ZkCRpGppqBYz5wPOTHJRkG2AOcE1VXd3u/zqw7Rj9twGOr6o7quoW4AejNayqw6tqqKqGHrnyqhMUviRJmgTXVdVZ7fKRwNbA9kl+kWQ+sAOw0Rj9v9v+ewFNrgGwE/CeJBcDpwIrAmsvIo4daIogVNV9VXVzf4PefGP27NmLOi9Jkma05QcdwOKoqquTbEoze+LDwCkDDkmSJHVPjbD+eWCoqq5LciBNAWI0d7f/3seDuVKAl1fVVb0Nk/zt0ocrSZLGY0rNwGjvEn5HVR1JM3VzK2BOknXbJq8BThtjiNOBnZOslGRV4CXLNGBJkjQIayfZql1+FXBmu3xDklnArj1tbwXGM9XyRJp7YwQgybPG0f9k2ktbkyyXZPXxn4IkSeo3pQoYwDOA89rpm+8H9gf2Ao5tp4TeDxw2WuequhA4BrgE+DFw/rIOWJIkTbqrgDcnuQJYk+Yyji8Bl9EUInrf/48ADuu7iedIPkRzz4tLk1zergP8HNhw+CaefX3eTnPpynyay1E2XLrTkiRpZptql5CcSJN49HvWCG2361me07P8EeAjyyA8SZLUDfdW1av7tu3fPh6iqr4DfKdn05yeffOA7drlO4F/GaH/X3j4TcGPaPf9EXjp4gYvSZJGNtVmYEiSJEmSpBloSs3AkCRJGktVLQA2HnQckiRp4jkDQ5IkSZIkdZ4FDEmSJEmS1HkWMCRJkiRJUud5D4xxWO8Jj+YnH9h90GFIkiRJmiae+7PTBh2CNDjJEnVzBoYkSZIkSeo8CxiSJEmSJKnzLGBIkiRJkqTOs4AhSZIkSZI6z5t4jsPVv7uBnf79K4MOQ9KAnfSxfxp0CJIkaZr44fO2HXQI0pTjDAxJkiRJktR5FjAkSZIkSVLnWcCQJEmSJEmdZwFDkiRJkiR1ngUMSZIkSZLUeRYwJEmSJElS53W6gJFknySvXYbjz0ly2bIaX5IkSZIkTYzlBx3AWKrqsEHHIEmSNFGSLFdV9w06DkmSpqJJn4GR5NVJzktycZIvJlkuyW1JPpLkkiTnJnlc2/bAJPu2y3PbfZcmOT7JmknWSXJhz9jrDa8n2SzJaUkuSHJiksf3bL8kySXAmyf7/CVJ0tTQztS8MslRSa5IclySlZM8L8lFSeYn+WqSR7XtR9u+IMlBbY7yioGelCRJU9ikFjCSPB3YDXhOVc0F7gP2AFYBzq2qTYDTgTeM0P0bwLur6pnAfOD9VfVr4OYkc9s2ewFfS7IC8Flg16raDPgq8JG2zdeAt7bHGivWvZPMSzLvnjtuXeJzliRJU9r6wOer6unALcA7gSOA3arqGTSzWd+YZMWRtveM8+eq2rSqvt07eG++sXDhwmV/NpIkTWGTPQPjecBmwPlJLm7Xnwr8FTihbXMBMKe3U5LVgTWq6rR209eBbdvlLwN7JVmOpjjyLZpkY2Pgp+1x9gf+Jska7Tint32/OVqgVXV4VQ1V1dAKK6+6pOcrSZKmtuuq6qx2+Uia3OWaqrq63Tack6w/yvZhx4w0eG++MXv27ImPXpKkaWSy74ER4OtV9e8P2ZjsW1XVrt63mHF9B3g/cApwQVX9OckTgMuraqu+46yxxJFLkqSZqPrWbwIeswTj3L70oUiSNLNN9gyMk4FdkzwWIMmjkzx5UZ2q6mbgxiTbtJteA5zW7rsLOBH4As3lIQBXAbOTbNUeZ4UkG1XVTcBNSbZu2+0xMaclSZKmqbWH8wngVcA8YE6SddttwznJVaNslyRJE2RSCxhV9UuayzlOSnIp8FPg8Yvq1v77OuDgtt9c4IM9bY4C7gdOao/zV2BX4KD2Zp0XA89u2+4FfK69tCRLd0aSJGmauwp4c5IrgDWBQ2hyiWOTzKfJPw5rP1B52PYBxSxJ0rQ06V+jWlXH8PDrQGf17D8OOK5dfQxwbbv9YmDLUYbdGvha79eSte237W9YVRcAvTfwfNdinYAkSZpJ7q2qV/dtOxl4Vn/Dqhpt+5xlE5okSTPLpBcwxivJh4C/BQ5cRLvjgXWAHSYhLEmSJEmSNACdLWBU1fuA942j3S6TEI4kSZphqmoBzbeaSZKkDpjsm3hKkiRJkiQtNgsYkiRJkiSp8yxgSJIkSZKkzuvsPTC65GlPXIuTPvZPgw5DkiRJ0jTx9yefPugQpMFJlqibMzAkSZIkSVLnWcCQJEmSJEmdZwFDkiRJkiR1ngUMSZIkSZLUed7Ecxyuvu5P7PjOzw46DEkd87NPvXXQIUiSpGnkmB22GXQIUqc5A0OSJEmSJHWeBQxJkiRJktR5FjAkSZIkSVLnWcCQJEmSJEmdZwFDkiRJkiR1ngUMSZIkSZLUeRNWwEhy9kSNNc7jnZpkqF3+UZI1ksxJctmi2kuSpJlrrHxhnP0/mGTHiYxJkiQt2vITNVBVPXtpx0iyfFXduwTHflHbf42ljUGSJGk0SZarqgMGHYckSTPRRM7AuK39d7t2tsNxSa5MclSStPs2T3J2kkuSnJdk1SR7JvlBklOAk5OskuSr7f6Lkry07btSkm8nuSLJ8cBKPcdekGStdnX59phXtDGsPEKsOyU5J8mFSY5NMmuingdJkjQlPCxfSPK8NveY3+Yij4IH8oyDklwIvCLJEUl27dn3gTanmJ9kg3b77CQ/TXJ5ki8nubYnV5EkSUtgWd0D41nAO4ANgacCz0nySOAY4O1VtQmwI3Bn235TYNeqei7wXuCUqtoC2B44OMkqwBuBO6rq6cD7gc1GOfb6wOfbdrcAb+rd2SYP+wM7VtWmwDzgnf2DJNk7ybwk8+6587YlfBokSVJH9ecL7wSOAHarqmfQzFJ9Y0/7P1fVplX17RHGuqHNKb4A7Ntuez9NPrMRcByw9khB9OYbCxcunIjzkiRp2lpWBYzzquq3VXU/cDEwhyZR+H1VnQ9QVbf0XC7y06r6S7u8E/CeJBcDpwIr0rzpbwsc2fa9FLh0lGNfV1VntctHAlv37d+SprByVnuM1wFP7h+kqg6vqqGqGlphJSdoSJI0zfTnC88Drqmqq9ttX6fJPYYdM8ZY323/vYAm54Em//g2QFX9BLhxpI69+cbs2bMX+yQkSZpJJuweGH3u7lm+bxzHub1nOcDLq+qq3gbtVSjjUYtYD03BZPfxDihJkqad/vzgJuAxY7S/fYx9w3nPeHIeSZK0hCbza1SvAh6fZHOA9v4XI73Jnwi8tee+Gc9qt58OvKrdtjHwzFGOs3aSrdrlVwFn9u0/l+aSlnXbsVZJ8rQlPCdJkjQ19ecL84A5w/kB8BrgtKUY/yzgH6G59xaw5lKMJUmSmMQCRlX9FdgN+GySS4Cf0lwe0u9DwArApUkub9ehua50VpIrgA/STNMcyVXAm9t2a7b9euNYCOwJHJ3kUuAcYIOlODVJkjT19OcLhwB7AccmmQ/cDxy2FON/ANip/brWVwB/AG5dupAlSZrZJvJrVGe1/55Kc++K4e1v6Vk+n+YeFL2OaB/Dbe4E/mWE8e8EXjnKsee0izcwSjGiqrbrWT4F2HyUU5EkSdNYVS1g5HzhZJobkfe3n9O3vudI+6pqHrBdu3oz8HdVdW8702Pzquq9xFaSJC0mr9OUJEmaeGsD/53kEcBfgTcMOB5JkqY8CxiSJEkTrKp+xQizOSRJ0pKbzJt4SpIkSZIkLRELGJIkSZIkqfMsYEiSJEmSpM7zHhjj8LQnPZaffeqtgw5DkiRJ0jS22ylnDDoEaVK8Mlmifs7AkCRJkiRJnWcBQ5IkSZIkdZ4FDEmSJEmS1HkWMCRJkiRJUud5E89xuPr//sDz3vKfgw5DUgedfOi7Bh2CJEmapr6y3daDDkHqFGdgSJIkSZKkzrOAIUmSJEmSOs8ChiRJkiRJ6jwLGJIkSZIkqfMsYEiSJEmSpM6zgCFJkiRJkjpvxhYwkuycZMNBxyFJkrolyW2DjkGSJD3ctChgJFl+CbrtDFjAkCRJkiRpCpgSBYwk70tyVZIzkxydZN8kpyb5ryTzgLcn2SzJaUkuSHJikse3fd+Q5PwklyT5TpKVkzwb+Afg4CQXJ1lnoCcoSZI6J8msJCcnuTDJ/CQvbbfPSXJlkiOSXJ3kqCQ7Jjkrya+SbNG2WyXJV5Ocl+Si4f6SJGnJdL6AkWRz4OXAJsALgaGe3Y+sqiHgM8BngV2rajPgq8BH2jbfrarNq2oT4Argn6rqbOAHwH5VNbeqfj3CcfdOMi/JvL/eefsyOz9JktRZdwG7VNWmwPbAJ5Ok3bcu8Elgg/bxKmBrYF/gP9o27wVOqaot2v4HJ1ml9wC9+cbChQuX+QlJkjSVLcmlF5PtOcD3q+ou4K4k/9Oz75j23/WBjYGftnnFcsDv230bJ/kwsAYwCzhxPAetqsOBwwFWe+zf1FKegyRJmnoCfDTJtsD9wBOBx7X7rqmq+QBJLgdOrqpKMh+Y07bZCfiHJPu26ysCa9N8oAI8NN8YGhoy35AkaQxToYAxluGpEQEur6qtRmhzBLBzVV2SZE9gu8kJTZIkTXF7ALOBzarqniQLaIoQAHf3tLu/Z/1+HsyvAry8qq6ahFglSZr2On8JCXAW8JIkKyaZBbx4hDZXAbOTbAWQZIUkG7X7VgV+n2QFmkRk2K3tPkmSpJGsDvypLV5sDzx5MfufCLx1+LKTJM+a6AAlSZpJOl/AqKrzae5XcSnwY2A+cHNfm78CuwIHJbkEuBh4drv7fcAvaAohV/Z0+zawX3tTLW/iKUmS+h0FDLWXhbyWh+YR4/EhYAXg0vYykw9NcHySJM0oU+USkk9U1YFJVgZOBy6oqi/1Nqiqi4Ft+ztW1ReAL4yw/Sz8GlVJktSnqma1/94AjHR5KjT33hpuv2fP8oLhfVV1J/AvyypOSZJmmqlSwDg8yYY0151+vaouHHRAkiRJkiRp8kyJAkZVvWrQMUiSJEmSpMHp/D0wJEmSJEmSLGBIkiRJkqTOs4AhSZIkSZI6b0rcA2PQnrb2/+PkQ9816DAkSZIkzSD/dOqZgw5BWib+OVmifs7AkCRJkiRJnWcBQ5IkSZIkdZ4FDEmSJEmS1HkWMCRJkiRJUud5E89xuOra69l+7wMHHYakDvv54QcOOgRJkjTNffq5zxl0CNJAOQNDkiRJkiR1ngUMSZIkSZLUeRYwJEmSJElS51nAkCRJkiRJnWcBQ5IkSZIkdZ4FDEmSJEmS1HnLvICRZE6Sy0bY/sEkO7bLpyYZWsxxH+gvSZLUBUmOSLLroOOQJGk6Wn5QB66qA5a0b5Lllqa/JEnSREuy3KBjkCRpOpusS0iWS/KlJJcnOSnJSqN9QpHkC0nmtW0/0LN9QZKDklwIvKK3f5LnJbkoyfwkX03yqJ4+a7XLQ0lObZefm+Ti9nFRklUn40mQJEnd0M4QvTLJUUmuSHJckpXHyCnGyjUeyE96xt8hyfd61p+f5PjJPk9JkqaTySpgrAd8rqo2Am4CXj5G2/dW1RDwTOC5SZ7Zs+/PVbVpVX17eEOSFYEjgN2q6hk0s0reuIh49gXeXFVzgW2AO/sbJNm7LaTMu+euOxZ1fpIkaepZH/h8VT0duAV4JyPkFOPINR6WnwA/BzZIMrtd3wv4an8AvfnGwoULJ/bsJEmaZiargHFNVV3cLl8AzBmj7T+2n2JcBGwEbNiz75gR2q/fjn91u/51YNtFxHMW8KkkbwPWqKp7+xtU1eFVNVRVQyusuPIihpMkSVPQdVV1Vrt8JPA8Rs4pFpVrPCw/qaoCvgm8OskawFbAj0do90C+MXv27P7dkiSpx2QVMO7uWb6PUe69keQpNLMjnldVzwR+CKzY0+T2xTzuvTx4jg+MU1UfB/4ZWAk4K8kGizmuJEma+qpv/aYlHGe0/ORrwKuB3YFjR/rARJIkjV/XvkZ1NZok4OYkjwNeOI4+VwFzkqzbrr8GOK1dXgBs1i4/cNlKknWqan5VHQScD1jAkCRp5lk7yVbt8quAeYycU4yVa4yqqq4Hrgf2pylmSJKkpdCpAkZVXUJz6ciVwLdoLvVYVJ+7aK4rPTbJfOB+4LB29weATyeZRzPzY9g7klyW5FLgHkaY0ilJkqa9q4A3J7kCWBM4hBFyikXkGotyFM2lKldMePSSJM0wy/xrVKtqAbBxz/onRmizXc/ynqOMM6dvfc+e5ZOBZ43Q5wzgaSNsf+uiI5ckSdPcvVX16r5to+UUo22f07e+Z1+TrYEvLVWUkiQJmIQChiRJ0kyU5AKaS2P/bdCxSJI0HVjAkCRJM07/DNFldIzNFt1KkiSNV6fugSFJkiRJkjQSCxiSJEmSJKnzLGBIkiRJkqTO8x4Y47D+k5/Azw8/cNBhSJIkSZrB3n7aWYMOQZoQ70iWqJ8zMCRJkiRJUudZwJAkSZIkSZ1nAUOSJEmSJHWeBQxJkiRJktR53sRzHK5a8Fue+7p3DToMSR122tf/c9AhSJKkGeQj2zx70CFIk84ZGJIkSZIkqfMsYEiSJEmSpM6zgCFJkiRJkjrPAoYkSZIkSeo8CxiSJEmSJKnzLGBIkiRJkqTO62wBI8kaSd60mH2OSLLrsopJkiRNT0nmJLlsafsm2S7JCRMbnSRJgg4XMIA1gMUqYEiSJEmSpOmpywWMjwPrJLk4ycHt47Ik85PsBpDGoUmuSvIz4LHDnZMckOT8ts/hbdt1klzY02a93nVJkjSjLZ/kqCRXJDkuycoj5RMASTZLckmSS4A39w+U5BFJfpVkds/6/w6vS5KkxdflAsZ7gF9X1VzgXGAusAmwI3BwkscDuwDrAxsCrwWe3dP/0KravKo2BlYCXlxVvwZuTjK3bbMX8LWRDp5k7yTzksy75647J/rcJElS96wPfL6qng7cQjMT9GH5RNv2a8Bbq2qTkQaqqvuBI4E92k07ApdU1cLedr35xsKFC/uHkSRJPbpcwOi1NXB0Vd1XVX8ETgM2B7bt2X49cEpPn+2T/CLJfGAHYKN2+5eBvZIsB+wGfGukA1bV4VU1VFVDK6y40jI6LUmS1CHXVdVZ7fKRNPnHw/KJJGsAa1TV6W3bb44y3ldpPmABeD0jfGjSm2/Mnu3kDEmSxjJVChiLJcmKwOeBXavqGcCXgBXb3d8BXkjzCcoFVfXnwUQpSZI6pkZYHy2fWPRgVdcBf0yyA7AF8OOJClSSpJmoywWMW4FV2+UzgN2SLNdeO7otcB5wes/2xwPbt+2Hk4sbkswCHvhmkqq6CzgR+AKjXD4iSZJmpLWTbNUuvwo4s11+SD5RVTcBNyXZut2/B6P7Ms1sjmOr6r6JD1mSpJmjswWMdmbEWe3Xkm0FXApcQnOZyLuq6g/A8cCvgF8C3wDOafveRPMpyWU0xYrz+4Y/CrgfOGmZn4gkSZoqrgLenOQKYE2aDztGyyf2Aj6X5GIgY4z5A2AWfmgiSdJSW37QAYylql7Vt2m/vv0FvGWUvvsD+48y9NbA1/wkRJIkAVTVAmCDEXaNmE9U1QU0Nxcf9q52+6nAqT3bN6G5eeeVExSqJEkzVqcLGMtCkuOBdWhuxCVJkrRMJHkP8EbGvsREkiSN04wrYFTVLoOOQZIkTX9V9XHg44OOQ5Kk6aKz98CQJEmSJEkaZgFDkiRJkiR1ngUMSZIkSZLUeTPuHhhLYv05f8NpX//PQYchSZIkSQC894yzBx2CtMT2z1jfQD46Z2BIkiRJkqTOs4AhSZIkSZI6zwKGJEmSJEnqPAsYkiRJkiSp87yJ5zhcdc3/se2r3jroMCTNUKd/67ODDkGSJHXQe7featAhSJPKGRiSJEmSJKnzLGBIkiRJkqTOs4AhSZIkSZI6zwKGJEmSJEnqPAsYkiRJkiSp8yxgSJIkSZKkzut8ASPJbct4/COS7LosjyFJkqa3ZZ2vSJKkKVDAkCRJkiRJmjIFjDQOTnJZkvlJdmu3fzvJ3/e0OyLJrkmWa9ufn+TSJP/SM86hSa5K8jPgsQM6JUmS1AFJVknywySXtHnGbkkWJFmr3T+U5NR2eVaSr7W5yKVJXt431lpJzkny90ken+T0JBe3424zgNOTJGnaWH7QASyGlwFzgU2AtYDzk5wOHAP8I/DDJI8Enge8Efgn4Oaq2jzJo4CzkpwEPAtYH9gQeBzwS+Cr/QdLsjewN8CjVp61bM9MkiQN0guA66vq7wGSrA4cNErb99HkF89o2645vCPJ44AfAPtX1U+T/BtwYlV9JMlywMr9g/XmG2uvvfYEnpIkSdPPlJmBAWwNHF1V91XVH4HTgM2BHwPbt0WKFwKnV9WdwE7Aa5NcDPwCeAywHrBtzzjXA6eMdLCqOryqhqpqaIUVV1rW5yZJkgZnPvD8JAcl2aaqbh6j7Y7A54ZXqurGdnEF4GTgXVX103bb+cBeSQ4EnlFVt/YP1ptvzJ49eyLORZKkaWsqFTBGVFV3AacCfwfsRjMjAyDAW6tqbvt4SlWdNKAwJUlSR1XV1cCmNIWMDyc5ALiXB/OkFccxzL3ABTT5yPC4p9N8cPI74Igkr53IuCVJmmmmUgHjDGC39t4Ws2kSgvPafccAewHbAD9pt50IvDHJCgBJnpZkFeD0nnEeD2w/mSchSZK6JckTgDuq6kjgYJpixgJgs7ZJ730ufgq8uafv8CUkBbwe2CDJu9t9Twb+WFVfAr7cjitJkpbQVLoHxvHAVsAlNEnCu6rqD+2+k4BvAt+vqr+2274MzAEuTBJgIbBzO84ONPe++D/gnEmKX5IkddMzgIOT3A/cQ3MvrZWAryT5EM1Mz2EfBj6X5DLgPuADwHcBquq+JLsDP0hyK3A7sF+Se4DbAGdgSJK0FDpfwKiqWe2/BezXPvrb3AM8um/b/cB/tI9+b5n4SCVJ0lRUVSfSzNzs97QR2t4GvG6E7cP5yt30XEYCfH2CwpQkacabSpeQSJIkSZKkGcoChiRJkiRJ6jwLGJIkSZIkqfMsYEiSJEmSpM6zgCFJkiRJkjqv899C0gXrP2VtTv/WZwcdhiRJkiQ94CNnnjPoEKQl8tFkifo5A0OSJEmSJHWeBQxJkiRJktR5FjAkSZIkSVLnWcCQJEmSJEmd5008x+HKX1/L1i//50GHIUkPOPM7Xx50CJIkacDe/pwtBx2CNKmcgSFJkiRJkjrPAoYkSZIkSeo8CxiSJEmSJKnzLGBIkiRJkqTOs4AhSZIkSZI6zwKGJEmSJEnqvIEUMJK8LckVSY5aRuMPJflMu7xdkmcvi+NIkiT1SnL2KNuPSLLrZMcjSdJ0svyAjvsmYMeq+u1ED5xk+aqaB8xrN20H3AaMmFBIkiRNlKryQxNJkpaRSZ+BkeQw4KnAj5O8O8k5SS5KcnaS9ds25ybZqKfPqe2sikcn+V6SS9s2z2z3H5jkm0nOAr7Zzro4IckcYB/gX5NcnGSbJLOTfCfJ+e3jOZP9HEiSpO5pc4wLklyeZO8k+yQ5uGf/nkkObZffmeSy9vGOnja3tf8myaFJrkryM+Cxk30+kiRNN5M+A6Oq9knyAmB74K/AJ6vq3iQ7Ah8FXg4cA/wj8P4kjwceX1XzknwWuKiqdk6yA/ANYG479IbA1lV1Z5Lt2mMtaAsmt1XVJwCSfAs4pKrOTLI2cCLw9Ek5eUmS1GWvr6q/JFkJOB94HnAWsF+7fzfgI0k2A/YC/hYI8Iskp1XVRT1j7QKsT5OfPA74JfDVyTkNSZKmp0FdQjJsdeDrSdYDClih3f7fwEnA+2kKGce127emKXBQVackeUyS1dp9P6iqO8dxzB2BDZMMr6+WZFZV3dbbKMnewN4Aj1pplSU5N0mSNLW8Lcku7fKTgKcAv0myJfArYAOagsbbgOOr6naAJN8FtgF6CxjbAkdX1X3A9UlOGemAvfnG2muvPfFnJEnSNDLoAsaHgJ9X1S7t5R6nAlTV75L8ub1EZDeay0AW5fZxHvMRwJZVdddYjarqcOBwgFlrzq5xji1JkqagdvbmjsBWVXVHklOBFYFv03yYciVN0aJ6PgRZar35xtDQkPmGJEljGPTXqK4O/K5d3rNv3zHAu4DVq+rSdtsZwB7wQKJxQ1Xdsohj3Aqs2rN+EvDW4ZUkcxc/bEmSNM2sDtzYFi82ALZstx8PvBTYnaaYAU0+snOSlZOsQnO5yBl9450O7JZkufZy2O2X+RlIkjTNDbqA8Z/Ax5JcxMNngxwHvJLmcpJhBwKbJbkU+DjwunEc43+AXYZv4kkz7XOovRHoLxnf7A5JkjS9/QRYPskVNDnGuQBVdSNwBfDkqjqv3XYhcARwHvAL4Mt997+ApvDxK5p7X3wDOGcSzkGSpGltIJeQVNWcdvEG4Gk9u/bvafNH+uKrqr8AO48w3oF966fy4OUoVwPP7Ouy2xKELUmSpqmquht44Sj7XjzCtk8Bnxph+6z23wLeMsFhSpI0ow16BoYkSZIkSdIiWcCQJEmSJEmdZwFDkiRJkiR1ngUMSZIkSZLUeRYwJEmSJElS5w3kW0immg3WeTJnfufLgw5DkiRJkh7w6bPOHXQI0hL5TLJE/ZyBIUmSJEmSOs8ChiRJkiRJ6jwLGJIkSZIkqfMsYEiSJEmSpM7zJp7jcOX/XsOzX/KqQYchSTPS2f/zrUGHIElSp/3TVlsOOgRpUjgDQ5IkSZIkdZ4FDEmSJEmS1HkWMCRJkiRJUudZwJAkSZIkSZ1nAUOSJEmSJHWeBQxJkiRJktR5M66AkeS2QccgSZKmliRzklw26DgkSZrJlh90AJMlSYAMOg5JkiRJkrT4Bj4DI8kqSX6Y5JIklyXZLcmCJGu1+4eSnNouH5jkm0nOSfKrJG/oGWe/JOcnuTTJB9ptc5JcleQbwGXAk9rthyS5PMnJSWZP+klLkqROS/LONi+5LMk7+vY9NclFSTZPskWbl1yU5Owk67dtTk8yt6fPmUk2mdyzkCRpehl4AQN4AXB9VW1SVRsDP1lE+2cCOwBbAQckeUKSnYD1gC2AucBmSbZt268HfL6qNqqqa4FVgHlVtRFwGvD+CT8jSZI0ZSXZDNgL+FtgS+ANwJrtvvWB7wB7VtX5wJXANlX1LOAA4KPtMF8B9mz7PA1YsaoumcTTkCRp2ulCAWM+8PwkByXZpqpuXkT771fVnVV1A/BzmqLFTu3jIuBCYAOawgXAtVV1bk//+4Fj2uUjga1HOkiSvZPMSzLvnr/etUQnJkmSpqStgeOr6vaqug34LrANMBv4PrBHTzFideDY9v4YhwAbtduPBV6cZAXg9cARIx2oN99YuHDhMjshSZKmg4EXMKrqamBTmkLGh5McANzLg7Gt2N9lhPUAH6uque1j3ar6Srv/9kWFMEpch1fVUFUNrfDI/hAkSdIMdDPwfzz0w48PAT9vZ5G+hDZvqao7gJ8CLwX+EThqpAF7843Zs72qVZKksQy8gJHkCcAdVXUkcDBNMWMBsFnb5OV9XV6aZMUkjwG2A84HTgRen2RWO+YTkzx2lEP+//buPcySqrz3+Pcnw0WZAdRBJUYcLyDgAIP0cBEVUEIUDYIhjhqjRBOOMYaox1uix6BJnoB41HgHkaBHRZF4IWAEAgwQmGEuMgx3VDQGRUElBDByfc8fVSObpi+7e7r33t39/TxPP127alXVu6p371r7rVWrHgEc0U6/Cvj3KaqKJEmaHS4GDkvyqCRbAoe38+5pp1+T5FVt2a2BH7fTRw7bzknAR4HVVXXbtEctSdIsNwhPIdkVOD7JA8C9wJ8BjwQ+m+RvgeXDyq+nuXVkIfC3VfUT4CdJdgZWNA8b4U7g1cD9I+zvLmCvJO8BbgGWTXmNJEnSjFVV30lyCrCqnXUScFu77K4kLwHObR/N/gHgc2274qxh21mb5L+Bf+pZ8JIkzWJ9T2BU1dk0PSiG23GUVdZX1WtG2M4/Av84QvnFw8rNn3CQkiRpTqmqDwEfGjZ7cbvsv4ClHfM72yzv2TDR9jJ9BHDO9EQpSdLc0vdbSCRJkmabJK8BLgPeXVUP9DseSZJmg773wJiIqjqm3zFIkiSNp6o+D3y+33FIkjSb2ANDkiRJkiQNPBMYkiRJkiRp4JnAkCRJkiRJA29GjYHRLzs9/Slc+i9f6ncYkiRJkvQwn12xst8hSBNycjKp9eyBIUmSJEmSBp4JDEmSJEmSNPBMYEiSJEmSpIFnAkOSJEmSJA08B/HswnU3fI99Dz6s32FIkjbSinO+0e8QJEnqiWX77N3vEKQpZw8MSZIkSZI08ExgSJIkSZKkgWcCQ5IkSZIkDTwTGJIkSZIkaeCZwJAkSZIkSQPPBIYkSZIkSRp4MzqBkWTbJJcluTzJcye47pIkh0xXbJIkabAkuXOKtnNAkjOnYluSJKl7MzaBkWQe8ALgyqrao6ounuAmlgAmMCRJkiRJmgH6msBIsijJdUm+mOTaJKcneVSSPZNcmGRtkrOTbNeWX57kI0nWAH8JfAB4aZJ1SR6Z5OAkK5J8J8lXk8xv11ua5NIkVyRZlWRr4P3AsnbdZX07CJIkqafSOD7JVUmu3NAOaHtWLG/bIxvaJ2mXvbCd9x3gZR3bekySbyRZn2Rlkt3a+cckObnd3o1Jju5LZSVJmkXm9TsA4BnA66vqkiQnA38OHA68tKpubRsVfw+8ri2/WVUNAST5BTBUVW9KshB4D3BQVd2V5J3AW5McC3wFWFZVq5NsBfwKeO+GdXtZWUmS1Hcvo+mJuTuwEFid5KJ22R7AM4GfAJcA+7UXTj4DPB/4Hk27YoP3AZdX1WFJng98vt02wE7AgcAC4Pokn6qqe6exXpIkzWqDkMD4z6q6pJ3+AvDXwGLg3PaixybAzR3lv8LI9gF2AS5p19sMWEGTILm5qlYDVNV/A7RlRpXkKOAogM22eORE6yRJkgbXc4BTq+p+4GdJLgSWAv8NrKqqmwCSrAMWAXcCP6iq77bzv0DbRmi39fsAVXV+kse2F0sAzqqqu4G7k9wCPB64qTOQzvbG9ttvPz21lSRplhiEBEYNe30HcHVV7TtK+btGmR/g3Kp65UNmJrtOKqiqE4ETAeZvtc3wGCVJ0ux0d8f0/WxcW2ncbXW2N4aGhmxvSJI0hkEYxHP7JBuSFa8CVgLbbpiXZNMkz+xiOytpunk+vV1vyyQ7AtcD2yVZ2s5f0A4AegdNl05JkjS3XEwzDtYmSbYFngesGqP8dcCiJE9rX3deLLkY+ENoxtAAfr6ht6ckSZpag5DAuB748yTXAo8GPgYcARyX5ApgHfDs8TZSVbcCRwKnJllPc/vITlV1D7AM+Fi7vXOBLYALgF0cxFOSpDnn68B64ArgfOAdVfXT0QpX1a9pbvM4qx3E85aOxccAe7Ztj2OB105X0JIkzXWp6l9vxSSLgDOranHfgujC/K22qV33OaDfYUiSNtKKc77R7xAGWpK1GwbKVu8NDQ3VmjVr+h2GpFli2T579zsEaVSnXbZqUm2OQeiBIUmSJEmSNKa+DuJZVT+keeKIJEmSJEnSqOyBIUmSJEmSBp4JDEmSJEmSNPBMYEiSJEmSpIHX1zEwZoqddny6I9dLkiRJmjG+svKyfocgjeq0ZFLr2QNDkiRJkiQNPBMYkiRJkiRp4JnAkCRJkiRJA88EhiRJkiRJGngO4tmFa6//Lnsf8Lv9DkOSNItdtvzsfocgSZplXrz3Xv0OQZpS9sCQJEmSJEkDzwSGJEmSJEkaeCYwJEmSJEnSwDOBIUmSJEmSBp4JDEmSJEmSNPBMYEiSJEmSpIFnAkOSJEmSJA28WZXASHJpv2OQJEkbL8mpSdYnecsE1jksyS7TFM+bkzyqi3LLkwxNRwySJM11syqBUVXP7ncMkiRp4yR5ArC0qnarqg93uc484DBgWhIYwJuBcRMYkiRp+vQkgZHkG0nWJrk6yVHtvDuTHN/O+7cke7VXLW5McmhbZlGSi5N8p/15djv//UnWtT8/TvJPG7bZ/j6g3dbpSa5L8sUkaZcd0s5bm+SjSc7sxTGQJGmuas/nV3W8fluSY9pz9XFJViW5Iclz2yLnAE9sz/PPTbIkycq2R8bXkzy63c7yJB9JsgZ4J3AocHy73tM6e0MkWZjkh+30kUm+luTbSb6b5AMdsX0qyZq2ffK+dt7RwG8BFyS5oJ13cJIVbfvkq0nmD6vz65J8pOP1nybpKhkjSZJG1qseGK+rqj2BIeDoJI8FtgTOr6pnAncAfwf8DnA48P52vVuA36mqZwHLgI8CVNV7q2oJcADwS+DjI+xzD5qrJbsATwX2S7IFcALwojaebUcLOMlRbQNmzX333rMRVZckSWOYV1V70Zyz/6addyjw/apaUlUXA58H3llVuwFXdpQD2Kyqhqrq74EzgLe3631/nP0uoWlb7AosS/Kkdv67q2oI2A3YP8luVfVR4CfAgVV1YJKFwHuAg9o2yhrgrcO2fxrwe0k2bV//MXDy8CA62xu33nrrOCFLkjS3zevRfo5Ocng7/SRgB+Ae4NvtvCuBu6vq3iRXAova+ZsCH0+yBLgf2HHDBtseFV8APlRVa0fY56qquqktu67d5p3AjVX1g7bMqcBRIwVcVScCJwJsuWDrmlh1JUlSl77W/l7Lg+f/30iyNbBNVV3Yzvoc8NWOIl+Z5H7Pq6rb231cAzwZ+E/g5W1v0XnAdjQXQtYPW3efdv4lbQfPzYAVnQWq6s4k5wMvSXItsGlVXTk8iM72xtDQkO0NSZLGMO0JjCQHAAcB+1bVr5IsB7YA7q2qDSfqB4C7AarqgfY+VoC3AD8DdqfpLfLrjk0fA9xUVf80yq7v7pi+n94layRJ0kPdx0N7fW7RMb3hfD3Zc/VdXe53i2HLHtZOSPIU4G0042/cluSUEdYDCHBuVb1ynNhOAv4auA4Yrb0iSZK61ItbSLYGbmuTFzvRXLWYyLo3V9UDwB8BmwAk+T2apMjRE4zleuCpSRa1r5dNcH1JkjRxPwMel+SxSTYHXtLtim0vids6xsf4I+DCUYrfASzoeP1DYM92+ogudrcVTULk9iSPB140yrZX0tya+nSAJFsm2ZFhquoymp6nr6Lp9SlJkjZCLxIY36a5qnEtcCzNSb9bnwRem+QKYCcevMryVuCJwKp2oK73j7aBTlX1P8AbgW8nWUvTGLl9AvFIkqQJqqp7aca3WgWcS9MjYSJeSzM453qasStGO+9/GXh7ksuTPA34IPBnSS4HFnYR5xXA5W18XwIu6Vh8Ik374YKquhU4Eji1jWkFTTtlJKcBl1TVbePtX5IkjS0P3sUxNySZ396XGuATwHfHe0Tblgu2rsV7TqTjiCRJE3PZ8rP7HQJJ1rYDWGqKtE87+3BVnTde2aGhoVqzZk0PopI0V7x47736HYI0om+tWj2pNkevnkIySP60HdTzappbVE7obziSJGm2SbJNkhuA/+kmeSFJksY35wa2bHtb+Bx2SZI0barqv+h4epokSdp4c7EHhiRJkiRJmmFMYEiSJEmSpIE3524hmYydn7HDQAyuJkmSJEndOuuyVf0OQRpR80yNibMHhiRJkiRJGngmMCRJkiRJ0sAzgSFJkiRJkgaeCQxJkiRJkjTwHMSzC9dedz1Ln/3cfochSdJvrL704n6HIEmaAfZfurTfIUhTxh4YkiRJkiRp4JnAkCRJkiRJA88EhiRJkiRJGngmMCRJkiRJ0sAzgSFJkiRJkgaeCQxJkiRJkjTwTGBIkiRJkqSBN+MSGElOSXJEO708ydAkt3NAkmdPbXSSJGkmSnLpFG9vUZKr2uklSQ6Zyu1LkjQXzbgExhQ6ADCBIUmSqKrpbBMsAUxgSJK0kaYtgZHk1UlWJVmX5IQkeydZn2SLJFsmuTrJ4iSbJPlgkqva5X/Rrr9nkguTrE1ydpLtxtnfwUlWJPlOkq8mmd/O/2GS97Xzr0yyU5JFwBuAt7TxPXe6joMkSRp8Se5sfx/Q9vA8Pcl1Sb6YJO2yY5Nc07ZXPtjO+03P0M7tdLzeDHg/sKxtcyzrXa0kSZpd5k3HRpPsDCwD9quqe5N8EngGcAbwd8AjgS9U1VVJ/gxYBCypqvuSPCbJpsDHgJdW1a3tyf7vgdeNsr+FwHuAg6rqriTvBN5K02AA+HlVPSvJG4G3VdWfJPk0cGdVfXCUbR4FHAWw2Wabb/xBkSRJM8UewDOBnwCXAPsluRY4HNipqirJNt1sqKruSfJeYKiq3jR8eWd7Y/vtt5+i8CVJmp2mJYEBvADYE1jdXrR4JHALTUJhNfBr4Oi27EHAp6vqPoCq+mWSxcBi4Nx2/U2Am8fY3z7ALsAlbfnNgBUdy7/W/l4LvKybClTVicCJAFvOX1DdrCNJkmaFVVV1E0CSdTQXWlbStF8+m+RM4Myp2FFne2NoaMj2hiRJY5iuBEaAz1XVXz1kZnMbyHxgU2AL4K4x1r+6qvadwP7OrapXjrL87vb3/UxfnSVJ0uxwd8f0/cC8tpfoXjQXaY4A3gQ8H7iP9pbcJI+guYgiSZKmwXSNgXEecESSxwG0t4U8GTgB+D/AF4Hj2rLnAv8rybwNZYHrgW2T7NvO2zTJM8fY30qa7p1Pb8tvmWTHcWK8A1gwqdpJkqQ5pR1ba+uq+hbwFmD3dtEPaXqdAhxKc5FmONsckiRNgWlJYFTVNTRjUpyTZD1NkuK1wL1V9SXgWGBpkucDJwE/AtYnuQJ4VVXdQ3N147h23jrGeGJIVd0KHAmc2u5vBbDTOGH+C3C4g3hKkqQuLADObNsZ/04z1hbAZ4D92/bKvozcu/QCYBcH8ZQkaeOkytstx7Pl/AW1y25L+h2GJEm/sfrSi6d8m0nWVtXQlG9YXRkaGqo1a9b0OwxJs8z+S5f2OwTpYS5as2ZSbY5pe4yqJEmSJEnSVDGBIUmSJEmSBp4JDEmSJEmSNPBMYEiSJEmSpIE3r98BzAQ77/SMaRksTZIkSZKm04WrV/c7BOlhkkxqPXtgSJIkSZKkgWcCQ5IkSZIkDbxUVb9jGHhJ7gCu73ccU2wh8PN+BzHFrNPMMRvrZZ1mBus0tidX1bZTtC1NUJJbgf/odxwz2Gz8/x5UHuve8Vj3jse6t55RVQsmupJjYHTn+qoa6ncQUynJGus0+GZjnWB21ss6zQzWSYPM5NHG8X+hdzzWveOx7h2PdW8lWTOZ9byFRJIkSZIkDTwTGJIkSZIkaeCZwOjOif0OYBpYp5lhNtYJZme9rNPMYJ2k2cv/hd7xWPeOx7p3PNa9Nanj7SCekiRJkiRp4NkDQ5IkSZIkDTwTGJIkSZIkaeCZwOiQ5IVJrk/yvSTvGmH55km+0i6/LMmiPoQ5IV3U6a1JrkmyPsl5SZ7cjzgnYrw6dZT7/SSVZOAfh9RNnZK8vP1bXZ3kS72OcaK6eO9tn+SCJJe3779D+hHnRCQ5OcktSa4aZXmSfLSt8/okz+p1jBPVRZ3+sK3LlUkuTbJ7r2OcqPHq1FFuaZL7khzRq9gmq5s6JTkgybr2M+LCXsYn9UOS45Nc135GfT3JNqOU66rdoNEl+YP2s+WBsdpVSX7Yni/WTfYRiXPdBI617+uNlOQxSc5N8t3296NHKXd/+55el+SMXsc5k03H92sTGK0kmwCfAF4E7AK8Mskuw4q9Hritqp4OfBg4rrdRTkyXdbocGKqq3YDTgQ/0NsqJ6bJOJFkA/CVwWW8jnLhu6pRkB+CvgP2q6pnAm3sd50R0+Xd6D3BaVe0BvAL4ZG+jnJRTgBeOsfxFwA7tz1HAp3oQ08Y6hbHr9ANg/6raFfhbZsYAV6cwdp02vEePA87pRUBT4BTGqFP7xe2TwKHtZ8Qf9CYsqa/OBRa3bZgbaM6TD9Ftu0Hjugp4GXBRF2UPrKolVTXwF5AG1LjH2vf1lHkXcF5V7QCc174eyf+07+klVXVo78Kb2abr+7UJjAftBXyvqm6sqnuALwMvHVbmpcDn2unTgRckSQ9jnKhx61RVF1TVr9qXK4Hf7nGME9XN3wmaL1rHAb/uZXCT1E2d/hT4RFXdBlBVt/Q4xonqpk4FbNVObw38pIfxTUpVXQT8cowiLwU+X42VwDZJtutNdJMzXp2q6tIN7ztmxmdEN38ngL8A/hkY9P8loKs6vQr4WlX9qC0/I+olbYyqOqeq7mtfjvb51G27QWOoqmur6vp+xzEXdHmsfV9Pjc7vdp8DDutfKLPStHy/NoHxoCcC/9nx+qZ23ohl2hPm7cBjexLd5HRTp06vB/51WiPaeOPWqe22/6SqOquXgW2Ebv5OOwI7JrkkycokY15dHgDd1OkY4NVJbgK+RfOFcqab6P/cTDMTPiPGleSJwOHMjB4y3doReHSS5UnWJnlNvwOSeux1jPz5NNs/lwdNAee0n0NH9TuYWcz39dR4fFXd3E7/FHj8KOW2SLKmbYMf1pvQZoVp+X49bwoD1AyW5NXAELB/v2PZGEkeAXwIOLLPoUy1eTS3JRxAc4XpoiS7VtV/9TOojfRK4JSq+r9J9gX+X5LFVfVAvwPTwyU5kCaB8Zx+xzIFPgK8s6oeGOxOdBMyD9gTeAHwSGBFkpVVdUN/w5I2TpJ/A54wwqJ3V9U32zLvBu4DvtjL2Gabbo51F55TVT9O8jjg3CTXtT3I1GGKjrW6MNax7nxRVZWkRtnMk9v39VOB85NcWVXfn+pY1R0TGA/6MfCkjte/3c4bqcxNSebRdHv/RW/Cm5Ru6kSSg2j+ifevqrt7FNtkjVenBcBiYHn7xeQJwBlJDq2qQR1Mqpu/003AZVV1L/CDJDfQJDRW9ybECeumTq+nvae/qlYk2QJYyAzp0j+Krv7nZpokuwEnAS+qqkH+zOvWEPDl9jNiIXBIkvuq6ht9jWrj3AT8oqruAu5KchGwO824ANKMVVUHjbU8yZHAS4AXVNVIXz5m5efydBjvWHe5jR+3v29J8nWaLuQmMIaZgmPt+7pLYx3rJD9Lsl1V3dze8jtiG7TjfX1jkuXAHoAJjPFNy/drbyF50GpghyRPSbIZzaCCw0eZPQN4bTt9BHD+KCfLQTFunZLsAZxAM/DbTPjiOGadqur2qlpYVYuqahHNPbGDnLyA7t5736DpfUGShTTdxW/sYYwT1U2dfkRztZgkOwNbALf2NMqpdwbwmjT2AW7v6Jo4IyXZHvga8Eez5Wp+VT2l4zPidOCNMzx5AfBN4DlJ5iV5FLA3cG2fY5KmVXs75TtozvO/GqVYN+cjTYEkW7aDqJNkS+BgmgEpNfV8X0+Nzu92r6U5lz5Ekkcn2bydXgjsB1zTswhntmn5fm0PjFZV3ZfkTcDZwCbAyVV1dZL3A2uq6gzgszTd3L9HM5jaK/oX8fi6rNPxwHzgq+3VyB8N8ui6XdZpRumyTmcDBye5BrgfePsgXwnvsk7/G/hMkrfQ3DN75IAnBElyKk0iaWE7dsffAJsCVNWnacbyOAT4HvAr4I/7E2n3uqjTe2nuRfxk+xlx36CPLN9FnWac8epUVdcm+TawHngAOKmq/OKg2e7jwOY0tyoArKyqNyT5LZr/gUNGOx/1L+SZKcnhwMeAbYGzkqyrqt/tPNY04wd8vf1bzAO+VFXf7lvQM1Q3x9r39ZQ5FjgtyeuB/wBeDpDm8bVvqKo/AXYGTkjyAM3F/2OrygRGF6br+3UG/PuCJEmSJEmSt5BIkiRJkqTBZwJDkiRJkiQNPBMYkiRJkiRp4JnAkCRJkiRJA88EhiRJkiRJGngmMKQ5KMkTknw5yfeTrE3yrSQ7TnJbRye5NskXk2ye5N+SrEuyLMlJSXYZY91Dk7xrkvvdJskbR1l2QZLfHTbvzUk+Ncb2lrePzZIkSVPA9saI69jekDbCvH4HIKm30jyg/evA56rqFe283Wme337DJDb5RuCgqropyT4AVbWkXfaVsVZsn/98xiT2CbBNu+9PjrDsVJrnSJ/dMe8VwDsmuS9JkjQBtjckTQd7YEhzz4HAvVX16Q0zquqKqro4jeOTXJXkyiTLNpRJ8vYkq5OsT/K+dt6ngacC/5rkncAXgKXtFZGndV5lSPLCJN9JckWS89p5Ryb5eDu9bZJ/bvexOsl+7fxjkpzcbuvGJEe3IR0LPK3d1/HD6ng68OIkm7XbWAT8FnBxkk8lWZPk6g31GC7JnR3TRyQ5ZawYJUnSw9jesL0hTTl7YEhzz2Jg7SjLXgYsAXYHFgKrk1wE7ArsAOwFBDgjyfOq6g1JXggcWFU/T3IZ8LaqeglAc/GlOREDnwGeV1U/SPKYEfb9j8CHq+rfk2xPczVj53bZTjQNoQXA9W3XzHcBizuuvvxGVf0yySrgRcA3aa6GnFZVleTd7fJNgPOS7FZV67s8dmPFKEmSHmR7w/aGNOVMYEjq9Bzg1Kq6H/hZkguBpcDzgIOBy9ty82kaGBd1ud19gIuq6gfQnPBHKHMQsMuGRgiwVZL57fRZVXU3cHeSW2i6n45nQ7fODQ2K17fzX57kKJrPv+2AXYBuGxQjxlhVd46xjiRJeijbG2OzvSGNwgSGNPdcDRwxwXUC/ENVnTAN8WzwCGCfqvr1Q3bcnLzv7ph1P919dn0T+HCSZwGPqqq1SZ4CvA1YWlW3tV01txhh3eqY7lw+YoySJOlhbG/Y3pCmnGNgSHPP+cDm7VUBAJLsluS5wMXAsiSbtN0wnwesoum6+LoNVyiSPDHJ4yawz5XA89oTOqN06TwH+IuOmJaMs807aLp4jqi9SnEBcDLN1RGArYC7gNuTPJ6my+dIfpZk5ySPAA7fiBglSZqrbG/Y3pCmnAkMaY6pqqI5SR6U5rFmVwP/APyUZrTw9cAVNA2Pd1TVT6vqHOBLwIokV9IMWjXqyXyEfd4KHAV8LckVjDxa+NHAUDto1zXAG8bZ5i+AS9IMADZ8UK0NTqW5v/bUdp0raLqlXtfW55JR1nsXcCZwKXDzZGOUJGmusr1he0OaDmk+WyRJkiRJkgaXPTAkSZIkSdLAM4EhSZIkSZIGngkMSZIkSZI08ExgSJIkSZKkgWcCQ5IkSZIkDTwTGJIkSZIkaeCZwJAkSZIkSQPv/wOIc4T516VjvwAAAABJRU5ErkJggg==\n",
       "datasetInfos": [],
       "metadata": {},
       "removedWidgets": [],
       "type": "image"
      }
     },
     "output_type": "display_data"
    }
   ],
   "source": [
    "import matplotlib.pyplot as plt\n",
    "import seaborn as sns\n",
    "\n",
    "# Print comparison results in numbers\n",
    "print(\"Model Comparison Results:\")\n",
    "print(results_df)\n",
    "\n",
    "plt.figure(figsize=(7, 8))\n",
    "\n",
    "# Plotting the F1 Score for each model\n",
    "sns.barplot(x=results_df.index, y=results_df['F1 Score'])\n",
    "\n",
    "plt.title('Comparison of Model Performance by F1 Score')\n",
    "plt.ylabel('F1 Score')\n",
    "plt.xlabel('Model')\n",
    "plt.xticks(rotation=45)  # Rotate model names for better readability\n",
    "plt.show()\n",
    "\n",
    "# Plot the top 25 important features for positive and negative sentiments\n",
    "fig, axes = plt.subplots(1, 2, figsize=(15, 10))\n",
    "\n",
    "sns.barplot(y=top_positive_words, x=top_positive_coefs, ax=axes[0], palette='Blues_d')\n",
    "axes[0].set_title('Top 25 Important Features for Positive Sentiment')\n",
    "axes[0].set_xlabel('Coefficient Value')\n",
    "\n",
    "sns.barplot(y=top_negative_words, x=top_negative_coefs, ax=axes[1], palette='Reds_d')\n",
    "axes[1].set_title('Top 25 Important Features for Negative Sentiment')\n",
    "axes[1].set_xlabel('Coefficient Value')\n",
    "\n",
    "plt.tight_layout()\n",
    "plt.show()\n"
   ]
  },
  {
   "cell_type": "code",
   "execution_count": 0,
   "metadata": {
    "application/vnd.databricks.v1+cell": {
     "cellMetadata": {
      "byteLimit": 2048000,
      "rowLimit": 10000
     },
     "inputWidgets": {},
     "nuid": "626f0da3-20f5-4ec9-97a3-b6737dae4624",
     "showTitle": true,
     "title": "Question 2 ( which runs in hadoop except 2.3 part)"
    }
   },
   "outputs": [],
   "source": []
  },
  {
   "cell_type": "code",
   "execution_count": 0,
   "metadata": {
    "application/vnd.databricks.v1+cell": {
     "cellMetadata": {
      "byteLimit": 2048000,
      "rowLimit": 10000
     },
     "inputWidgets": {},
     "nuid": "d51e3d30-a786-4b19-be59-ad226c297763",
     "showTitle": true,
     "title": "Task 2.1. Data Ingestion Store the entire IMBD dataset in a distributed file system like Hadoop HDFS."
    }
   },
   "outputs": [
    {
     "output_type": "display_data",
     "data": {
      "text/plain": [
       ""
      ]
     },
     "metadata": {
      "application/vnd.databricks.v1+output": {
       "arguments": {},
       "data": "",
       "errorSummary": "Command skipped",
       "errorTraceType": "ansi",
       "metadata": {},
       "type": "ipynbError"
      }
     },
     "output_type": "display_data"
    }
   ],
   "source": [
    "/usr/local/hadoop/bin/hdfs dfs -mkdir /input\n",
    "/usr/local/hadoop/bin/hdfs dfs -put uIMDB_Dataset.csv hdfs://localhost:9000/input/"
   ]
  },
  {
   "cell_type": "code",
   "execution_count": 0,
   "metadata": {
    "application/vnd.databricks.v1+cell": {
     "cellMetadata": {
      "byteLimit": 2048000,
      "rowLimit": 10000
     },
     "inputWidgets": {},
     "nuid": "4d5706f0-c851-427c-aef3-cc9c6b33720a",
     "showTitle": true,
     "title": "Task 2.2. Hadoop MapReduce for Feature Extraction"
    }
   },
   "outputs": [],
   "source": []
  },
  {
   "cell_type": "code",
   "execution_count": 0,
   "metadata": {
    "application/vnd.databricks.v1+cell": {
     "cellMetadata": {
      "byteLimit": 2048000,
      "rowLimit": 10000
     },
     "inputWidgets": {},
     "nuid": "302a9d4b-a6bb-4d2a-b130-742eda7bdec1",
     "showTitle": true,
     "title": "Task 2.2.1 Mapper.py"
    }
   },
   "outputs": [
    {
     "output_type": "display_data",
     "data": {
      "text/plain": [
       ""
      ]
     },
     "metadata": {
      "application/vnd.databricks.v1+output": {
       "arguments": {},
       "data": "",
       "errorSummary": "Command skipped",
       "errorTraceType": "ansi",
       "metadata": {},
       "type": "ipynbError"
      }
     },
     "output_type": "display_data"
    }
   ],
   "source": [
    "import sys\n",
    "import re\n",
    "import nltk\n",
    "from nltk.tokenize import word_tokenize\n",
    "from bs4 import BeautifulSoup\n",
    "\n",
    "# Download necessary NLTK resources for tokenization and stopwords\n",
    "nltk.download('punkt')  # Download data for tokenizer\n",
    "nltk.download('stopwords')  # Download list of stopwords\n",
    "from nltk.corpus import stopwords\n",
    "\n",
    "# Define an extended set of stop words including common pronouns and other frequent non-informative words\n",
    "stop_words_with_pronouns = set([\n",
    "    # Listing common pronouns\n",
    "    \"i\", \"me\", \"my\", \"myself\", \"we\", \"our\", \"ours\", \"ourselves\", \"you\", \"your\", \"yours\", \n",
    "    \"yourself\", \"yourselves\", \"he\", \"him\", \"his\", \"himself\", \"she\", \"her\", \"hers\", \n",
    "    \"herself\", \"it\", \"its\", \"itself\", \"they\", \"them\", \"their\", \"theirs\", \"themselves\", \n",
    "    # Adding additional common words and symbols that are often not informative for analysis\n",
    "    \"what\", \"which\", \"who\", \"whom\", \"this\", \"that\", \"these\", \"those\", \"am\", \"is\", \"are\", \n",
    "    # ... other words and symbols ...\n",
    "    \"5\", \"b\", \"10\", \"1\", \"7\", \"8\", \"!\", \"#\", \".\", \"(\", \")\", \"?\", \"...\", \"'s\", \"``\", \"n't\", \"-\", \"*\", \":\", \"m\", \"..\", \"'\", \n",
    "    \"$\", \"%\", \"&\", \"'60s\", \"'60´s\", \"'62\", \"'68\", \"'70\", \"'70s\", \"'86\", \"'88\", \"'92\"\n",
    "]) | set(stopwords.words('english'))  # Combine with NLTK's pre-defined list of English stop words\n",
    "\n",
    "def clean_text(text):\n",
    "    \"\"\"\n",
    "    Function to clean text data by removing HTML tags, converting text to lowercase,\n",
    "    tokenizing the text into words, and removing stop words and pronouns.\n",
    "    \"\"\"\n",
    "    # Use BeautifulSoup to remove HTML tags from the text\n",
    "    text = BeautifulSoup(text, features=\"html.parser\").get_text()\n",
    "    # Convert all characters in the text to lowercase to standardize the data\n",
    "    text = text.lower()\n",
    "    # Tokenize the cleaned text into individual words\n",
    "    tokens = word_tokenize(text)\n",
    "    # Filter out any tokens that are in the extended list of stop words and pronouns\n",
    "    filtered_tokens = [word for word in tokens if word not in stop_words_with_pronouns]\n",
    "    return filtered_tokens\n",
    "\n",
    "# Read each line of input from standard input (sys.stdin) for processing\n",
    "for line in sys.stdin:\n",
    "    line = line.strip()  # Remove any leading/trailing whitespace from the line\n",
    "    parts = line.split(',')  # Attempt to split the line into parts using comma as a delimiter\n",
    "    \n",
    "    # Check if the line correctly splits into exactly two parts: review text and sentiment label\n",
    "    if len(parts) != 2:\n",
    "        continue  # Skip this line if it does not have exactly two parts\n",
    "    \n",
    "    # Assign the split parts to variables for further processing\n",
    "    review_text, sentiment = parts\n",
    "    \n",
    "    # Clean the review text to remove HTML, lowercase text, tokenize, and remove stop words/pronouns\n",
    "    tokens = clean_text(review_text)\n",
    "    \n",
    "    # Print each token alongside its associated sentiment label\n",
    "    for token in tokens:\n",
    "        print(f\"{token}\\t{sentiment}\")\n"
   ]
  },
  {
   "cell_type": "code",
   "execution_count": 0,
   "metadata": {
    "application/vnd.databricks.v1+cell": {
     "cellMetadata": {
      "byteLimit": 2048000,
      "rowLimit": 10000
     },
     "inputWidgets": {},
     "nuid": "42a15c42-1af7-4be7-a250-c16f52e409e4",
     "showTitle": true,
     "title": "Task 2.2.2 Reducer.py"
    }
   },
   "outputs": [
    {
     "output_type": "display_data",
     "data": {
      "text/plain": [
       ""
      ]
     },
     "metadata": {
      "application/vnd.databricks.v1+output": {
       "arguments": {},
       "data": "",
       "errorSummary": "Command skipped",
       "errorTraceType": "ansi",
       "metadata": {},
       "type": "ipynbError"
      }
     },
     "output_type": "display_data"
    }
   ],
   "source": [
    "#!/usr/bin/env python\n",
    "import sys\n",
    "\n",
    "# Initialize variables to track the current token and its sentiment counts\n",
    "current_token = None\n",
    "current_sentiment_counts = {'positive': 0, 'negative': 0}\n",
    "\n",
    "def safe_increment(dictionary, key):\n",
    "    \"\"\"\n",
    "    Safely increments the count for a given sentiment key in the dictionary.\n",
    "    If the key doesn't exist, print a warning message.\n",
    "    \"\"\"\n",
    "    if key in dictionary:\n",
    "        dictionary[key] += 1\n",
    "    else:\n",
    "        # Print warning if sentiment is not recognized\n",
    "        print(f\"Warning: Sentiment '{key}' not recognized.\", file=sys.stderr)\n",
    "\n",
    "# Process each line of input from stdin\n",
    "for line in sys.stdin:\n",
    "    line = line.strip()\n",
    "    try:\n",
    "        # Attempt to split each line into token and sentiment parts\n",
    "        token, sentiment = line.split('\\t', 1)\n",
    "        sentiment = sentiment.strip()  # Ensure no leading/trailing spaces\n",
    "    except ValueError as e:\n",
    "        # If splitting fails, log an error and skip to the next line\n",
    "        print(f\"Error parsing line: {line}. Error: {e}\", file=sys.stderr)\n",
    "        continue\n",
    "\n",
    "    # Check if we've moved on to a new token\n",
    "    if token != current_token:\n",
    "        # If this is not the first token, print the counts for the previous token\n",
    "        if current_token is not None:\n",
    "            print(f\"{current_token}\\t{current_sentiment_counts}\")\n",
    "        # Reset the current token and its counts\n",
    "        current_token = token\n",
    "        current_sentiment_counts = {'positive': 0, 'negative': 0}\n",
    "\n",
    "    # Increment the sentiment count for the current token\n",
    "    safe_increment(current_sentiment_counts, sentiment)\n",
    "\n",
    "# After processing all lines, output the last token's counts if it exists\n",
    "if current_token is not None:\n",
    "    print(f\"{current_token}\\t{current_sentiment_counts}\")\n"
   ]
  },
  {
   "cell_type": "code",
   "execution_count": 0,
   "metadata": {
    "application/vnd.databricks.v1+cell": {
     "cellMetadata": {
      "byteLimit": 2048000,
      "rowLimit": 10000
     },
     "inputWidgets": {},
     "nuid": "9d7921de-c3be-4b69-b23e-e3a2fc0279db",
     "showTitle": true,
     "title": "result of mapper_reducer  "
    }
   },
   "outputs": [
    {
     "output_type": "display_data",
     "data": {
      "text/plain": [
       ""
      ]
     },
     "metadata": {
      "application/vnd.databricks.v1+output": {
       "arguments": {},
       "data": "",
       "errorSummary": "Command skipped",
       "errorTraceType": "ansi",
       "metadata": {},
       "type": "ipynbError"
      }
     },
     "output_type": "display_data"
    }
   ],
   "source": [
    "'aaaaagh\t{'positive': 1, 'negative': 0}\n",
    "'aimee\t{'positive': 1, 'negative': 0}\n",
    "'amber\t{'positive': 0, 'negative': 1}\n",
    "'arthur\t{'positive': 2, 'negative': 0}\n",
    "'associates\t{'positive': 0, 'negative': 1}\n",
    "'atonement\t{'positive': 0, 'negative': 1}\n",
    "'awards\t{'positive': 0, 'negative': 1}\n",
    "'awful\t{'positive': 0, 'negative': 2}\n",
    "'beaches\t{'positive': 0, 'negative': 1}\n",
    "'been\t{'positive': 0, 'negative': 1}\n",
    "'bland\t{'positive': 0, 'negative': 1}\n",
    "'blues\t{'positive': 0, 'negative': 1}\n",
    "'bout\t{'positive': 1, 'negative': 0}\n",
    "'branded\t{'positive': 1, 'negative': 0}\n",
    "'brice\t{'positive': 1, 'negative': 0}\n",
    "'bulletproof\t{'positive': 0, 'negative': 1}\n",
    "'bunny\t{'positive': 1, 'negative': 0}\n",
    "'captain\t{'positive': 1, 'negative': 0}\n",
    "'carol\t{'positive': 1, 'negative': 0}\n",
    "'cause\t{'positive': 1, 'negative': 0}"
   ]
  },
  {
   "cell_type": "code",
   "execution_count": 0,
   "metadata": {
    "application/vnd.databricks.v1+cell": {
     "cellMetadata": {
      "byteLimit": 2048000,
      "rowLimit": 10000
     },
     "inputWidgets": {},
     "nuid": "dfecb9de-1dcf-49ce-b71f-62b5c7e93c5a",
     "showTitle": true,
     "title": "Task 2.3. Testing (function to find top 100 words for positive and negative sentiments)"
    }
   },
   "outputs": [
    {
     "output_type": "display_data",
     "data": {
      "text/plain": [
       ""
      ]
     },
     "metadata": {
      "application/vnd.databricks.v1+output": {
       "arguments": {},
       "data": "",
       "errorSummary": "Command skipped",
       "errorTraceType": "ansi",
       "metadata": {},
       "type": "ipynbError"
      }
     },
     "output_type": "display_data"
    }
   ],
   "source": [
    "import ast  # Import the ast module for safely converting strings to dictionaries\n",
    "\n",
    "def read_mapreduce_output(file_path):\n",
    "    \"\"\"\n",
    "    Reads the MapReduce output file, parsing each line into tokens\n",
    "    along with their positive and negative counts.\n",
    "    \"\"\"\n",
    "    tokens_data = []  # Initialize an empty list to store token data\n",
    "    with open(file_path, 'r') as file:  # Open the file for reading\n",
    "        for line in file:  # Iterate through each line in the file\n",
    "            line = line.strip()  # Remove leading/trailing whitespace\n",
    "            if not line or line.startswith(\"#\"):  # Skip empty lines or lines starting with '#'\n",
    "                continue\n",
    "            try:\n",
    "                # Split the line into token and counts parts, then evaluate the counts part as a dictionary\n",
    "                token, counts_str = line.split('\\t', 1)\n",
    "                counts = ast.literal_eval(counts_str)\n",
    "                # Append a tuple with the token and its positive/negative counts to the list\n",
    "                tokens_data.append((token, counts.get('positive', 0), counts.get('negative', 0)))\n",
    "            except ValueError as e:\n",
    "                # Handle and print errors related to splitting the line\n",
    "                print(f\"Error parsing line: {line}. Error: {e}\")\n",
    "            except SyntaxError as e:\n",
    "                # Handle and print errors related to evaluating the counts string\n",
    "                print(f\"Syntax error parsing counts: {counts_str}. Error: {e}\")\n",
    "    return tokens_data  # Return the list of token data\n",
    "\n",
    "def print_top_positive_tokens(tokens_data, top_n=100):\n",
    "    \"\"\" Prints the top n tokens with the highest positive sentiment counts.\"\"\"\n",
    "    # Sort the tokens by positive counts in descending order\n",
    "    sorted_tokens = sorted(tokens_data, key=lambda x: x[1], reverse=True)\n",
    "    print(f\"Top {top_n} positive sentiment tokens:\")\n",
    "    for i, (token, pos_count, _) in enumerate(sorted_tokens[:top_n], start=1):\n",
    "        # Print each token and its positive count\n",
    "        print(f\"{token}, {pos_count}\")\n",
    "\n",
    "def print_top_negative_tokens(tokens_data, top_n=100):\n",
    "    \"\"\" Prints the top n tokens with the highest negative sentiment counts \"\"\"\n",
    "    # Sort the tokens by negative counts in descending order\n",
    "    sorted_tokens = sorted(tokens_data, key=lambda x: x[2], reverse=True)\n",
    "    print(f\"Top {top_n} negative sentiment tokens:\")\n",
    "    for i, (token, _, neg_count) in enumerate(sorted_tokens[:top_n], start=1):\n",
    "        # Print each token and its negative count\n",
    "        print(f\"{token}, {neg_count}\")\n",
    "\n",
    "# Define the path to the MapReduce output file\n",
    "file_path = '/home/hdoop/hackathon/map7_red77/part-00000'\n",
    "# Read and parse the MapReduce output\n",
    "tokens_data = read_mapreduce_output(file_path)\n",
    "# Print the top 100 tokens for positive sentiment\n",
    "print_top_positive_tokens(tokens_data, 100)\n",
    "print(\"\\n\")  # Print a newline for better visual separation\n",
    "# Print the top 100 tokens for negative sentiment\n",
    "print_top_negative_tokens(tokens_data, 100)\n"
   ]
  },
  {
   "cell_type": "code",
   "execution_count": 0,
   "metadata": {
    "application/vnd.databricks.v1+cell": {
     "cellMetadata": {
      "byteLimit": 2048000,
      "rowLimit": 10000
     },
     "inputWidgets": {},
     "nuid": "3703ec28-0562-44a8-8257-bb18a1697fb5",
     "showTitle": true,
     "title": "2.3 Result"
    }
   },
   "outputs": [
    {
     "output_type": "display_data",
     "data": {
      "text/plain": [
       ""
      ]
     },
     "metadata": {
      "application/vnd.databricks.v1+output": {
       "arguments": {},
       "data": "",
       "errorSummary": "Command skipped",
       "errorTraceType": "ansi",
       "metadata": {},
       "type": "ipynbError"
      }
     },
     "output_type": "display_data"
    }
   ],
   "source": [
    "hadoop_list_pos:  \"movie\", \"film\", \"one\", \"good\", \"like\", \"great\", \"see\", \"really\", \"story\", \"time\",\n",
    "    \"would\", \"watch\", \"well\", \"love\", \"also\", \"show\", \"best\", \"think\", \"people\", \"get\",\n",
    "    \"seen\", \"movies\", \"ever\", \"much\", \"first\", \"even\", \"could\", \"watching\", \"acting\",\n",
    "    \"know\", \"many\", \"saw\", \"films\", \"made\", \"way\", \"life\", \"go\", \"say\", \"still\", \"funny\",\n",
    "    \"never\", \"thought\", \"make\", \"better\", \"lot\", \"years\", \"excellent\", \"back\", \"find\",\n",
    "    \"little\", \"two\", \"characters\", \"end\", \"makes\", \"old\", \"'m\", \"actors\", \"bad\", \"loved\",\n",
    "    \"done\", \"look\", \"watched\", \"dvd\", \"must\", \"got\", \"recommend\", \"fun\", \"scene\", \"man\",\n",
    "    \"real\", \"scenes\", \"series\", \"every\", \"enjoy\", \"enjoyed\", \"want\", \"character\", \"right\",\n",
    "    \"going\", \"role\", \"times\", \"anyone\", \"something\", \"cast\", \"another\", \"job\", \"new\",\n",
    "    \"part\", \"thing\", \"wonderful\", \"performance\", \"action\", \"family\", \"tv\", \"'ve\",\n",
    "    \"plot\", \"TRUE\", \"comedy\", \"give\"\n",
    "\n",
    "hadoop_list_neg:  \"movie\", \"film\", \"like\", \"one\", \"bad\", \"would\", \"good\", \"really\", \"could\", \"even\",\n",
    "    \"see\", \"watch\", \"time\", \"movies\", \"made\", \"get\", \"make\", \"ever\", \"people\", \"acting\",\n",
    "    \"think\", \"worst\", \"plot\", \"story\", \"seen\", \"much\", \"better\", \"watching\", \"way\", \"first\",\n",
    "    \"also\", \"say\", \"show\", \"actors\", \"know\", \"never\", \"well\", \"many\", \"funny\", \"got\",\n",
    "    \"nothing\", \"scenes\", \"little\", \"end\", \"something\", \"go\", \"stupid\", \"great\", \"thing\",\n",
    "    \"characters\", \"waste\", \"two\", \"going\", \"back\", \"life\", \"money\", \"thought\", \"whole\",\n",
    "    \"'ve\", \"minutes\", \"want\", \"actually\", \"saw\", \"script\", \"films\", \"real\", \"awful\", \"find\",\n",
    "    \"love\", \"makes\", \"'m\", \"character\", \"big\", \"another\", \"anyone\", \"look\", \"old\", \"watched\",\n",
    "    \"ca\", \"part\", \"believe\", \"guy\", \"terrible\", \"horror\", \"lot\", \"give\", \"horrible\", \"director\",\n",
    "    \"best\", \"come\", \"enough\", \"looks\", \"still\", \"scene\", \"anything\", \"cast\", \"done\", \"must\", \"gets\"\n"
   ]
  },
  {
   "cell_type": "code",
   "execution_count": 0,
   "metadata": {
    "application/vnd.databricks.v1+cell": {
     "cellMetadata": {
      "byteLimit": 2048000,
      "rowLimit": 10000
     },
     "inputWidgets": {},
     "nuid": "80df4894-7f23-41fb-9330-6efc6d476cc6",
     "showTitle": true,
     "title": "Task 2.3. Testing"
    }
   },
   "outputs": [
    {
     "output_type": "stream",
     "name": "stdout",
     "output_type": "stream",
     "text": [
      "positive: List one matches 14.285714285714285% with list two.\nnegative: List one matches 16.3265306122449% with list two.\n"
     ]
    }
   ],
   "source": [
    "'''\n",
    "1- script to find the matching percentage in between positive top 100 words from hadoop comparing with top positive 25 words by the output of databricks code using logistic regression.\n",
    "2- script to find the matching percentage in between negative top 100 words from hadoop comparing with top negative 25 words by the output of databricks code using logistic regression.\n",
    "'''\n",
    "def calculate_match_percentage(list1, list2):\n",
    "    # Calculate the number of matching elements\n",
    "    matching_elements = set(list1) & set(list2)\n",
    "    # Calculate the percentage match\n",
    "    if len(list1) == 0:\n",
    "        return 0  # Avoid division by zero if list1 is empty\n",
    "    match_percentage = (len(matching_elements) / len(set(list1))) * 100\n",
    "    return match_percentage\n",
    "\n",
    "# Corrected lists with quotes around the words in list1\n",
    "Databricks_list_MIX = [ \"awesome\", \"south\", \"release\", \"gem\", \"chance\",\n",
    "    \"brilliant\", \"wonderful\", \"fun\", \"enjoyed\", \"funniest\",\n",
    "    \"great\", \"masterpiece\", \"incredible\", \"available\", \"subtle\",\n",
    "    \"enjoyable\", \"today\", \"favorite\", \"hilarious\", \"loved\",\n",
    "    \"superb\", \"excellent\", \"amazing\", \"perfect\",\"worst\", \"waste\", \n",
    "          \"awful\", \"horrible\", \"dull\", \"disappointment\", \"terrible\", \n",
    "          \"fails\", \"stupid\", \"crap\", \"mess\", \"lame\", \"bad\", \"pathetic\", \n",
    "          \"boring\", \"laughable\", \"okay\", \"poor\", \"failed\", \"poorly\",\n",
    "          \"worse\", \"insult\", \"disappointing\", \"avoid\", \"save\"]\n",
    "\n",
    "Databricks_list_pos = [ \"awesome\", \"south\", \"release\", \"gem\", \"chance\",\n",
    "    \"brilliant\", \"wonderful\", \"fun\", \"enjoyed\", \"funniest\",\n",
    "    \"great\", \"masterpiece\", \"incredible\", \"available\", \"subtle\",\n",
    "    \"enjoyable\", \"today\", \"favorite\", \"hilarious\", \"loved\",\n",
    "    \"superb\", \"excellent\", \"amazing\", \"perfect\",\"worst\", \"waste\", \n",
    "          \"awful\", \"horrible\", \"dull\", \"disappointment\", \"terrible\", \n",
    "          \"fails\", \"stupid\", \"crap\", \"mess\", \"lame\", \"bad\", \"pathetic\", \n",
    "          \"boring\", \"laughable\", \"okay\", \"poor\", \"failed\", \"poorly\",\n",
    "          \"worse\", \"insult\", \"disappointing\", \"avoid\", \"save\"]\n",
    "\n",
    "Databricks_list_neg = [ \"awesome\", \"south\", \"release\", \"gem\", \"chance\",\n",
    "    \"brilliant\", \"wonderful\", \"fun\", \"enjoyed\", \"funniest\",\n",
    "    \"great\", \"masterpiece\", \"incredible\", \"available\", \"subtle\",\n",
    "    \"enjoyable\", \"today\", \"favorite\", \"hilarious\", \"loved\",\n",
    "    \"superb\", \"excellent\", \"amazing\", \"perfect\",\"worst\", \"waste\", \n",
    "          \"awful\", \"horrible\", \"dull\", \"disappointment\", \"terrible\", \n",
    "          \"fails\", \"stupid\", \"crap\", \"mess\", \"lame\", \"bad\", \"pathetic\", \n",
    "          \"boring\", \"laughable\", \"okay\", \"poor\", \"failed\", \"poorly\",\n",
    "          \"worse\", \"insult\", \"disappointing\", \"avoid\", \"save\"]\n",
    "\n",
    "hadoop_list_pos = [  \"movie\", \"film\", \"one\", \"good\", \"like\", \"great\", \"see\", \"really\", \"story\", \"time\",\n",
    "    \"would\", \"watch\", \"well\", \"love\", \"also\", \"show\", \"best\", \"think\", \"people\", \"get\",\n",
    "    \"seen\", \"movies\", \"ever\", \"much\", \"first\", \"even\", \"could\", \"watching\", \"acting\",\n",
    "    \"know\", \"many\", \"saw\", \"films\", \"made\", \"way\", \"life\", \"go\", \"say\", \"still\", \"funny\",\n",
    "    \"never\", \"thought\", \"make\", \"better\", \"lot\", \"years\", \"excellent\", \"back\", \"find\",\n",
    "    \"little\", \"two\", \"characters\", \"end\", \"makes\", \"old\", \"'m\", \"actors\", \"bad\", \"loved\",\n",
    "    \"done\", \"look\", \"watched\", \"dvd\", \"must\", \"got\", \"recommend\", \"fun\", \"scene\", \"man\",\n",
    "    \"real\", \"scenes\", \"series\", \"every\", \"enjoy\", \"enjoyed\", \"want\", \"character\", \"right\",\n",
    "    \"going\", \"role\", \"times\", \"anyone\", \"something\", \"cast\", \"another\", \"job\", \"new\",\n",
    "    \"part\", \"thing\", \"wonderful\", \"performance\", \"action\", \"family\", \"tv\", \"'ve\",\n",
    "    \"plot\", \"TRUE\", \"comedy\", \"give\"]\n",
    "\n",
    "hadoop_list_neg = [  \"movie\", \"film\", \"like\", \"one\", \"bad\", \"would\", \"good\", \"really\", \"could\", \"even\",\n",
    "    \"see\", \"watch\", \"time\", \"movies\", \"made\", \"get\", \"make\", \"ever\", \"people\", \"acting\",\n",
    "    \"think\", \"worst\", \"plot\", \"story\", \"seen\", \"much\", \"better\", \"watching\", \"way\", \"first\",\n",
    "    \"also\", \"say\", \"show\", \"actors\", \"know\", \"never\", \"well\", \"many\", \"funny\", \"got\",\n",
    "    \"nothing\", \"scenes\", \"little\", \"end\", \"something\", \"go\", \"stupid\", \"great\", \"thing\",\n",
    "    \"characters\", \"waste\", \"two\", \"going\", \"back\", \"life\", \"money\", \"thought\", \"whole\",\n",
    "    \"'ve\", \"minutes\", \"want\", \"actually\", \"saw\", \"script\", \"films\", \"real\", \"awful\", \"find\",\n",
    "    \"love\", \"makes\", \"'m\", \"character\", \"big\", \"another\", \"anyone\", \"look\", \"old\", \"watched\",\n",
    "    \"ca\", \"part\", \"believe\", \"guy\", \"terrible\", \"horror\", \"lot\", \"give\", \"horrible\", \"director\",\n",
    "    \"best\", \"come\", \"enough\", \"looks\", \"still\", \"scene\", \"anything\", \"cast\", \"done\", \"must\", \"gets\"\n",
    "]\n",
    "\n",
    "\n",
    "\n",
    "\n",
    "# Calculate and print the match percentage for 100 hadoop and 25 databricks positive words\n",
    "percentage = calculate_match_percentage(Databricks_list_pos, hadoop_list_pos)\n",
    "print(f\"positive: List one matches {percentage}% with list two.\")\n",
    "\n",
    "# Calculate and print the match percentage for 100 hadoop and 25 databricks negative words\n",
    "percentage1 = calculate_match_percentage(Databricks_list_neg, hadoop_list_neg)\n",
    "print(f\"negative: List one matches {percentage1}% with list two.\")"
   ]
  }
 ],
 "metadata": {
  "application/vnd.databricks.v1+notebook": {
   "dashboards": [],
   "language": "python",
   "notebookMetadata": {
    "mostRecentlyExecutedCommandWithImplicitDF": {
     "commandId": 2618898534528900,
     "dataframes": [
      "_sqldf"
     ]
    },
    "pythonIndentUnit": 4
   },
   "notebookName": "html 4070 hackathon version 4 final (1)",
   "widgets": {}
  }
 },
 "nbformat": 4,
 "nbformat_minor": 0
}
